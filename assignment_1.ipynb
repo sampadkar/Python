{
  "nbformat": 4,
  "nbformat_minor": 0,
  "metadata": {
    "colab": {
      "provenance": []
    },
    "kernelspec": {
      "name": "python3",
      "display_name": "Python 3"
    },
    "language_info": {
      "name": "python"
    }
  },
  "cells": [
    {
      "cell_type": "code",
      "execution_count": 1,
      "metadata": {
        "id": "vCiqr6LgGnq9"
      },
      "outputs": [],
      "source": [
        "#Write a Python program to take two numbers as input and print their sum.\n",
        "a=int(input(\"enter first number\"))\n",
        "b=int(input(\"enter second number\"))\n",
        "print(a+b)"
      ]
    },
    {
      "cell_type": "code",
      "source": [
        "#Write a Python program to take two numbers as input and print their difference\n",
        "a=int(input(\"enter first number\"))\n",
        "b=int(input(\"enter second number\"))\n",
        "print(a-b)"
      ],
      "metadata": {
        "colab": {
          "base_uri": "https://localhost:8080/"
        },
        "id": "vM8Vz1XEG1AZ",
        "outputId": "06810a4b-a71d-4793-a01c-ff1d3d150678"
      },
      "execution_count": 2,
      "outputs": [
        {
          "output_type": "stream",
          "name": "stdout",
          "text": [
            "enter first number1\n",
            "enter second number2\n",
            "-1\n"
          ]
        }
      ]
    },
    {
      "cell_type": "code",
      "source": [
        "#Write a Python program to take two numbers as input and print their product.\n",
        "a=int(input(\"enter first number\"))\n",
        "b=int(input(\"enter second number\"))\n",
        "print(a*b)\n"
      ],
      "metadata": {
        "colab": {
          "base_uri": "https://localhost:8080/"
        },
        "id": "9WTwTkGiHdUg",
        "outputId": "ad49df9c-7568-48b8-a825-e0285efff0ea"
      },
      "execution_count": 3,
      "outputs": [
        {
          "output_type": "stream",
          "name": "stdout",
          "text": [
            "enter first number1\n",
            "enter second number1\n",
            "1\n"
          ]
        }
      ]
    },
    {
      "cell_type": "code",
      "source": [
        "#Write a Python program to take two numbers as input and print their quotient\n",
        "a=int(input(\"enter first number\"))\n",
        "b=int(input(\"enter second number\"))\n",
        "print(a/b)"
      ],
      "metadata": {
        "id": "U1IptGyfIRfh"
      },
      "execution_count": 4,
      "outputs": []
    },
    {
      "cell_type": "code",
      "source": [
        "#Write a Python program to take two numbers as input and print their remainder.\n",
        "a=int(input(\"enter first number\"))\n",
        "b=int(input(\"enter second number\"))\n",
        "print(a%b)"
      ],
      "metadata": {
        "colab": {
          "base_uri": "https://localhost:8080/"
        },
        "id": "_YhPqcesIXIy",
        "outputId": "a6c18c54-6d80-497b-f3c6-144f83b85c44"
      },
      "execution_count": 7,
      "outputs": [
        {
          "output_type": "stream",
          "name": "stdout",
          "text": [
            "enter first number1\n",
            "enter second number3\n",
            "1\n"
          ]
        }
      ]
    },
    {
      "cell_type": "code",
      "source": [
        "#Write a Python program to take two numbers as input and print their power.\n",
        "a=int(input(\"enter first number\"))\n",
        "b=int(input(\"enter second number\"))\n",
        "print(a**b)"
      ],
      "metadata": {
        "colab": {
          "base_uri": "https://localhost:8080/"
        },
        "id": "3GWu0ExjI2Q-",
        "outputId": "1291b5eb-4817-4603-b3f6-6801a3d6a80b"
      },
      "execution_count": 8,
      "outputs": [
        {
          "output_type": "stream",
          "name": "stdout",
          "text": [
            "enter first number1\n",
            "enter second number2\n",
            "1\n"
          ]
        }
      ]
    },
    {
      "cell_type": "code",
      "source": [
        "#Write a Python program to take two numbers as input and print their average\n",
        "a=int(input(\"enter first number\"))\n",
        "b=int(input(\"enter second number\"))\n",
        "print((a+b)/2)"
      ],
      "metadata": {
        "colab": {
          "base_uri": "https://localhost:8080/"
        },
        "id": "rd5POPwxJWGq",
        "outputId": "ed40948a-94d1-49df-fead-d1b61b78a13a"
      },
      "execution_count": 9,
      "outputs": [
        {
          "output_type": "stream",
          "name": "stdout",
          "text": [
            "enter first number1\n",
            "enter second number2\n",
            "1.5\n"
          ]
        }
      ]
    },
    {
      "cell_type": "code",
      "source": [
        "#Write a Python program to take a number as input and print its square root.\n",
        "import math\n",
        "a=int(input(\"enter the number\"))\n",
        "print(a**0.5)\n",
        "print(math.sqrt(a))"
      ],
      "metadata": {
        "colab": {
          "base_uri": "https://localhost:8080/"
        },
        "id": "giWywl8VJcCt",
        "outputId": "d0752970-fd53-4444-960e-bb09c53db987"
      },
      "execution_count": 12,
      "outputs": [
        {
          "output_type": "stream",
          "name": "stdout",
          "text": [
            "enter first number49\n",
            "7.0\n",
            "7.0\n"
          ]
        }
      ]
    },
    {
      "cell_type": "code",
      "source": [
        "#Write a Python program to take a number as input and print its cube root.\n",
        "a=int(input(\"input the number: \"))\n",
        "print(a**(1/3))"
      ],
      "metadata": {
        "colab": {
          "base_uri": "https://localhost:8080/"
        },
        "id": "E53QWRDaJsiK",
        "outputId": "37d00cfb-3d83-40ab-bba7-c8666f0494a4"
      },
      "execution_count": 13,
      "outputs": [
        {
          "output_type": "stream",
          "name": "stdout",
          "text": [
            "input the number: 8\n",
            "2.0\n"
          ]
        }
      ]
    },
    {
      "cell_type": "code",
      "source": [
        "#Write a Python program to take a number as input and print its absolute value\n",
        "a=int(input(\"enter the number\"))\n",
        "print(abs(a))"
      ],
      "metadata": {
        "colab": {
          "base_uri": "https://localhost:8080/"
        },
        "id": "PaMx-PfKKgDR",
        "outputId": "19f89619-d23f-434d-f7cd-910bb4f6f24f"
      },
      "execution_count": 15,
      "outputs": [
        {
          "output_type": "stream",
          "name": "stdout",
          "text": [
            "enter the number-10\n",
            "10\n"
          ]
        }
      ]
    },
    {
      "cell_type": "code",
      "source": [
        "#Write a Python program to take a number as input and print its floor value.\n",
        "import math\n",
        "a=float(input(\"enter the number\"))\n",
        "print(math.floor(a))"
      ],
      "metadata": {
        "colab": {
          "base_uri": "https://localhost:8080/"
        },
        "id": "Hx5VSNQrKpsF",
        "outputId": "2de886fc-f887-4dc7-b1f4-1e9f85a6bfd7"
      },
      "execution_count": 18,
      "outputs": [
        {
          "output_type": "stream",
          "name": "stdout",
          "text": [
            "enter the number4.2\n",
            "4\n"
          ]
        }
      ]
    },
    {
      "cell_type": "code",
      "source": [
        "#Write a Python program to take a number as input and print its ceiling value\n",
        "import math\n",
        "a=float(input(\"enter the number\"))\n",
        "print(math.ceil(a))"
      ],
      "metadata": {
        "colab": {
          "base_uri": "https://localhost:8080/"
        },
        "id": "T-HaTMXMLE5_",
        "outputId": "cf1bf4d3-372c-4a9b-d596-e254119c6330"
      },
      "execution_count": 19,
      "outputs": [
        {
          "output_type": "stream",
          "name": "stdout",
          "text": [
            "enter the number3.4\n",
            "4\n"
          ]
        }
      ]
    },
    {
      "cell_type": "code",
      "source": [],
      "metadata": {
        "id": "dTPJJJpVLg7Q"
      },
      "execution_count": null,
      "outputs": []
    }
  ]
}
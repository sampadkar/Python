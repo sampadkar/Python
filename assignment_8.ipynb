{
  "nbformat": 4,
  "nbformat_minor": 0,
  "metadata": {
    "colab": {
      "provenance": []
    },
    "kernelspec": {
      "name": "python3",
      "display_name": "Python 3"
    },
    "language_info": {
      "name": "python"
    }
  },
  "cells": [
    {
      "cell_type": "code",
      "execution_count": 3,
      "metadata": {
        "colab": {
          "base_uri": "https://localhost:8080/"
        },
        "id": "ESuEfi_VU2ym",
        "outputId": "30d87818-fa1c-4e61-eef9-dc0aed1b5249"
      },
      "outputs": [
        {
          "output_type": "stream",
          "name": "stdout",
          "text": [
            "1\n",
            "2\n",
            "3\n",
            "4\n",
            "5\n",
            "6\n",
            "7\n",
            "8\n",
            "9\n",
            "10\n"
          ]
        }
      ],
      "source": [
        "# Write a program that prints the numbers from 1 to 10 using a while loop\n",
        "num=1\n",
        "while(num<=10):\n",
        "    print(num)\n",
        "    num+=1"
      ]
    },
    {
      "cell_type": "code",
      "source": [
        "# Write a program that prints the even numbers from 2 to 20 using a while loop.\n",
        "num=2\n",
        "while(num<21):\n",
        "  if(num%2==0):\n",
        "    print(num)\n",
        "  num+=1"
      ],
      "metadata": {
        "colab": {
          "base_uri": "https://localhost:8080/"
        },
        "id": "R4icaQJtVFXe",
        "outputId": "951abc13-220c-4629-f369-3202a58946c8"
      },
      "execution_count": 5,
      "outputs": [
        {
          "output_type": "stream",
          "name": "stdout",
          "text": [
            "2\n",
            "4\n",
            "6\n",
            "8\n",
            "10\n",
            "12\n",
            "14\n",
            "16\n",
            "18\n",
            "20\n"
          ]
        }
      ]
    },
    {
      "cell_type": "code",
      "source": [
        "# Write a program that prints the odd numbers from 1 to 19 using a while loop.\n",
        "num=1\n",
        "while(num<20):\n",
        "  if(num%2!=0):\n",
        "    print(num)\n",
        "  num+=1"
      ],
      "metadata": {
        "colab": {
          "base_uri": "https://localhost:8080/"
        },
        "id": "Q0DP3I-OVo_m",
        "outputId": "9a78ca83-0815-4671-a7aa-35c5c6362288"
      },
      "execution_count": 6,
      "outputs": [
        {
          "output_type": "stream",
          "name": "stdout",
          "text": [
            "1\n",
            "3\n",
            "5\n",
            "7\n",
            "9\n",
            "11\n",
            "13\n",
            "15\n",
            "17\n",
            "19\n"
          ]
        }
      ]
    },
    {
      "cell_type": "code",
      "source": [
        "# Write a program that prints the first 10 numbers of the Fibonacci sequence\n",
        "# using a while loop.\n",
        "num=1\n",
        "t1=0\n",
        "t2=1\n",
        "while(num<10):\n",
        "  print(t1)\n",
        "  t3=t1+t2\n",
        "  t1=t2\n",
        "  t2=t3\n",
        "  num+=1"
      ],
      "metadata": {
        "colab": {
          "base_uri": "https://localhost:8080/"
        },
        "id": "TBI31te2V-lq",
        "outputId": "f6b08775-5cc6-49ce-9d1a-614e45e7bc14"
      },
      "execution_count": 7,
      "outputs": [
        {
          "output_type": "stream",
          "name": "stdout",
          "text": [
            "0\n",
            "1\n",
            "1\n",
            "2\n",
            "3\n",
            "5\n",
            "8\n",
            "13\n",
            "21\n"
          ]
        }
      ]
    },
    {
      "cell_type": "code",
      "source": [
        "# Write a program that prints the multiplication table of a given number using\n",
        "# a while loop.\n",
        "n=int(input(\"enter the number\"))\n",
        "num=1\n",
        "while(num<=10):\n",
        "  print(f\"{n}*{num}={n*num}\")\n",
        "  num+=1"
      ],
      "metadata": {
        "colab": {
          "base_uri": "https://localhost:8080/"
        },
        "id": "KLgcObqvWaWo",
        "outputId": "07dcd678-dc08-4ece-aa49-821e6257ac7c"
      },
      "execution_count": 8,
      "outputs": [
        {
          "output_type": "stream",
          "name": "stdout",
          "text": [
            "enter the number5\n",
            "5*1=5\n",
            "5*2=10\n",
            "5*3=15\n",
            "5*4=20\n",
            "5*5=25\n",
            "5*6=30\n",
            "5*7=35\n",
            "5*8=40\n",
            "5*9=45\n",
            "5*10=50\n"
          ]
        }
      ]
    },
    {
      "cell_type": "code",
      "source": [
        "# Write a program that prints the sum of the digits of a given number using a\n",
        "# while loop\n",
        "num=1234\n",
        "total=0\n",
        "while(num>0):\n",
        "  digit=num%10\n",
        "  total+=digit\n",
        "  num=num//10\n",
        "print(total)\n",
        "\n"
      ],
      "metadata": {
        "colab": {
          "base_uri": "https://localhost:8080/"
        },
        "id": "O1fGs6NbW4Qm",
        "outputId": "f3a8b6a4-ec77-4174-a274-55559f348070"
      },
      "execution_count": 9,
      "outputs": [
        {
          "output_type": "stream",
          "name": "stdout",
          "text": [
            "10\n"
          ]
        }
      ]
    },
    {
      "cell_type": "code",
      "source": [
        "# Write a program that prints the reverse of a given number using a while loop.\n",
        "num=1234\n",
        "l=''\n",
        "while(num>0):\n",
        "  l+=str(num%10)\n",
        "  num=num//10\n",
        "print(l)\n"
      ],
      "metadata": {
        "colab": {
          "base_uri": "https://localhost:8080/"
        },
        "id": "7AFw3jMdXQdN",
        "outputId": "c6161bb3-849c-4030-f745-a59171bb200c"
      },
      "execution_count": 11,
      "outputs": [
        {
          "output_type": "stream",
          "name": "stdout",
          "text": [
            "4321\n"
          ]
        }
      ]
    },
    {
      "cell_type": "code",
      "source": [
        "# Write a program that prints the factorial of a given number using a while loop.\n",
        "n=5\n",
        "total=1\n",
        "while(n>0):\n",
        "  total*=n\n",
        "  n-=1\n",
        "print(total)"
      ],
      "metadata": {
        "colab": {
          "base_uri": "https://localhost:8080/"
        },
        "id": "SjczINkLX1uI",
        "outputId": "4245db79-23a6-4f56-ad2b-e55593e431c6"
      },
      "execution_count": 12,
      "outputs": [
        {
          "output_type": "stream",
          "name": "stdout",
          "text": [
            "120\n"
          ]
        }
      ]
    },
    {
      "cell_type": "code",
      "source": [
        "# Write a program that prints the prime numbers between 1 and 100 using a\n",
        "# while loop.\n"
      ],
      "metadata": {
        "id": "hxtM8YMuYfdP"
      },
      "execution_count": 13,
      "outputs": []
    },
    {
      "cell_type": "code",
      "source": [
        "# Write a program that prints the sum of the first n natural numbers using a\n",
        "# while loop.\n",
        "n=int(input(\"enter the number\"))\n",
        "total=0\n",
        "while(n>0):\n",
        "  total+=n\n",
        "  n-=1\n",
        "print(total)"
      ],
      "metadata": {
        "colab": {
          "base_uri": "https://localhost:8080/"
        },
        "id": "QNk1HBsdY_pF",
        "outputId": "b5a933ed-6356-4440-8be3-30424abf271b"
      },
      "execution_count": 14,
      "outputs": [
        {
          "output_type": "stream",
          "name": "stdout",
          "text": [
            "enter the number10\n",
            "55\n"
          ]
        }
      ]
    },
    {
      "cell_type": "code",
      "source": [],
      "metadata": {
        "id": "F33cF56lZHbR"
      },
      "execution_count": null,
      "outputs": []
    }
  ]
}
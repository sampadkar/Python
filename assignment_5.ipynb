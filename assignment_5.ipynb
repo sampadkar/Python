{
  "nbformat": 4,
  "nbformat_minor": 0,
  "metadata": {
    "colab": {
      "provenance": []
    },
    "kernelspec": {
      "name": "python3",
      "display_name": "Python 3"
    },
    "language_info": {
      "name": "python"
    }
  },
  "cells": [
    {
      "cell_type": "code",
      "execution_count": 4,
      "metadata": {
        "colab": {
          "base_uri": "https://localhost:8080/"
        },
        "id": "Uv1GA0wN1Unp",
        "outputId": "bdd1f2e6-8831-4afe-b125-8ecf1e16b3ab"
      },
      "outputs": [
        {
          "output_type": "stream",
          "name": "stdout",
          "text": [
            "1 2 3 4 5 6 7 8 9 10 "
          ]
        }
      ],
      "source": [
        "# Write a Python program to print the first 10 natural numbers using a while loop.\n",
        "a=1\n",
        "while(a<11):\n",
        "  print(a,end=\" \")\n",
        "  a+=1"
      ]
    },
    {
      "cell_type": "code",
      "source": [
        "# Write a Python program to calculate the sum of all numbers from 1 to a given\n",
        "# number using a for loop.\n",
        "num=int(input(\"Enter the number: \"))\n",
        "sum=0\n",
        "for i in range(1,num+1):\n",
        "  sum+=i\n",
        "print(sum)"
      ],
      "metadata": {
        "colab": {
          "base_uri": "https://localhost:8080/"
        },
        "id": "OkxDAD7L1tL4",
        "outputId": "265bb0f5-f84c-4f68-b970-9c98f17aedb7"
      },
      "execution_count": 9,
      "outputs": [
        {
          "output_type": "stream",
          "name": "stdout",
          "text": [
            "Enter the number: 10\n",
            "55\n"
          ]
        }
      ]
    },
    {
      "cell_type": "code",
      "source": [
        "# Write a Python program to print the multiplication table of a given number using a\n",
        "# for loop.\n",
        "num=int(input(\"Enter the number: \"))\n",
        "for i in range(1,11):\n",
        "  print(f\"{num}*{i}={num*i}\")"
      ],
      "metadata": {
        "colab": {
          "base_uri": "https://localhost:8080/"
        },
        "id": "yuCPi5oa2Md0",
        "outputId": "a19303da-4167-4df2-e627-cc45dc5dcd5b"
      },
      "execution_count": 10,
      "outputs": [
        {
          "output_type": "stream",
          "name": "stdout",
          "text": [
            "Enter the number: 5\n",
            "5*1=5\n",
            "5*2=10\n",
            "5*3=15\n",
            "5*4=20\n",
            "5*5=25\n",
            "5*6=30\n",
            "5*7=35\n",
            "5*8=40\n",
            "5*9=45\n",
            "5*10=50\n"
          ]
        }
      ]
    },
    {
      "cell_type": "code",
      "source": [
        "# Write a Python program to count the total number of digits in a number using a\n",
        "# while loop.\n",
        "num=int(input(\"enter the number: \"))\n",
        "total=0\n",
        "while(num>0):\n",
        "  total+=(num%10)\n",
        "  num=num//10\n",
        "print(\"total: \",total)"
      ],
      "metadata": {
        "colab": {
          "base_uri": "https://localhost:8080/"
        },
        "id": "wzCAo4nW297a",
        "outputId": "8fa76077-7310-4fa7-a6be-627d026d2e66"
      },
      "execution_count": 15,
      "outputs": [
        {
          "output_type": "stream",
          "name": "stdout",
          "text": [
            "enter the number: 1234\n",
            "total:  10\n"
          ]
        }
      ]
    },
    {
      "cell_type": "code",
      "source": [
        "# Write a Python program to display numbers from -10 to -1 using a for loop\n",
        "for i in range(-10,0):\n",
        "  print(i)"
      ],
      "metadata": {
        "colab": {
          "base_uri": "https://localhost:8080/"
        },
        "id": "KGxwxHHd3kVn",
        "outputId": "f48b6b16-4675-463b-fcf4-52c73e0ef2d9"
      },
      "execution_count": 27,
      "outputs": [
        {
          "output_type": "stream",
          "name": "stdout",
          "text": [
            "-10\n",
            "-9\n",
            "-8\n",
            "-7\n",
            "-6\n",
            "-5\n",
            "-4\n",
            "-3\n",
            "-2\n",
            "-1\n"
          ]
        }
      ]
    },
    {
      "cell_type": "code",
      "source": [
        "# Write a Python program to use the else block to display a message “Done” after\n",
        "# successful execution of a for loop.\n",
        "for i in range(5):\n",
        "  print(i)\n",
        "else:\n",
        "  print(\"Done\")"
      ],
      "metadata": {
        "colab": {
          "base_uri": "https://localhost:8080/"
        },
        "id": "cKpjyup14vmj",
        "outputId": "bd89f84a-c516-4000-8979-ce32c649a642"
      },
      "execution_count": 28,
      "outputs": [
        {
          "output_type": "stream",
          "name": "stdout",
          "text": [
            "0\n",
            "1\n",
            "2\n",
            "3\n",
            "4\n",
            "Done\n"
          ]
        }
      ]
    },
    {
      "cell_type": "code",
      "source": [
        "# Write a Python program to display all prime numbers within a range using a for\n",
        "# loop.\n",
        "def prime(x):\n",
        "  temp=0\n",
        "  for i in range(2,x):\n",
        "    if x%i==0:\n",
        "      temp+=1\n",
        "  if temp==0:\n",
        "    print(x)\n",
        "\n",
        "\n",
        "num=int(input(\"Enter the number: \"))\n",
        "for i in range(2,num):\n",
        "  prime(i)"
      ],
      "metadata": {
        "colab": {
          "base_uri": "https://localhost:8080/"
        },
        "id": "PkIT6etW5KUR",
        "outputId": "3a766e09-d80b-4b2e-f2ad-f8437afa3cd4"
      },
      "execution_count": 33,
      "outputs": [
        {
          "output_type": "stream",
          "name": "stdout",
          "text": [
            "Enter the number: 19\n",
            "2\n",
            "3\n",
            "5\n",
            "7\n",
            "11\n",
            "13\n",
            "17\n"
          ]
        }
      ]
    },
    {
      "cell_type": "code",
      "source": [
        "# Write a Python program to display the Fibonacci series up to 10 terms using a for\n",
        "# loop.\n",
        "num=int(input(\"enter the number: \"))\n",
        "a=0\n",
        "b=1\n",
        "for i in range(num):\n",
        "  print(a)\n",
        "  c=a+b\n",
        "  a=b\n",
        "  b=c\n"
      ],
      "metadata": {
        "colab": {
          "base_uri": "https://localhost:8080/"
        },
        "id": "EJVMsOFc6x3j",
        "outputId": "afdd9d91-9684-45ee-8c15-88aa9f4ef6aa"
      },
      "execution_count": 35,
      "outputs": [
        {
          "output_type": "stream",
          "name": "stdout",
          "text": [
            "enter the number: 10\n",
            "0\n",
            "1\n",
            "1\n",
            "2\n",
            "3\n",
            "5\n",
            "8\n",
            "13\n",
            "21\n",
            "34\n"
          ]
        }
      ]
    },
    {
      "cell_type": "code",
      "source": [
        "# Write a Python program to find the factorial of a given number using a for loop\n",
        "num=int(input(\"enter the number: \"))\n",
        "sum=1\n",
        "for i in range(1,num+1):\n",
        "  sum*=i\n",
        "print(sum)\n"
      ],
      "metadata": {
        "colab": {
          "base_uri": "https://localhost:8080/"
        },
        "id": "JLC9uZRw9A1t",
        "outputId": "55cd3bfc-c55f-418a-d644-3251fd557e09"
      },
      "execution_count": 36,
      "outputs": [
        {
          "output_type": "stream",
          "name": "stdout",
          "text": [
            "enter the number: 5\n",
            "120\n"
          ]
        }
      ]
    },
    {
      "cell_type": "code",
      "source": [
        "# Write a Python program to reverse a given integer number using a while loop.\n",
        "a=int(input(\"enter the number\"))\n",
        "num=''\n",
        "while a>0:\n",
        "  num+=str(a%10)\n",
        "  a=a//10\n",
        "print(num)\n"
      ],
      "metadata": {
        "colab": {
          "base_uri": "https://localhost:8080/"
        },
        "id": "UrY9L3ux9oyj",
        "outputId": "af0bc4d5-ff76-4f7d-dabb-29ba36324302"
      },
      "execution_count": 38,
      "outputs": [
        {
          "output_type": "stream",
          "name": "stdout",
          "text": [
            "enter the number1234\n",
            "4321\n"
          ]
        }
      ]
    },
    {
      "cell_type": "code",
      "source": [
        "# Write a Python program to calculate the cube of all numbers from 1 to a given\n",
        "# number using a for loop\n",
        "num=int(input(\"enter the number: \"))\n",
        "for i in range(1,num+1):\n",
        "  print(i**3)"
      ],
      "metadata": {
        "colab": {
          "base_uri": "https://localhost:8080/"
        },
        "id": "RNpIbWOI_hzI",
        "outputId": "94ddfbd3-d3f5-44ea-fb93-9b3a7f710cbd"
      },
      "execution_count": 39,
      "outputs": [
        {
          "output_type": "stream",
          "name": "stdout",
          "text": [
            "enter the number: 10\n",
            "1\n",
            "8\n",
            "27\n",
            "64\n",
            "125\n",
            "216\n",
            "343\n",
            "512\n",
            "729\n",
            "1000\n"
          ]
        }
      ]
    },
    {
      "cell_type": "code",
      "source": [],
      "metadata": {
        "id": "K80pPx3U_kUn"
      },
      "execution_count": null,
      "outputs": []
    }
  ]
}
{
  "nbformat": 4,
  "nbformat_minor": 0,
  "metadata": {
    "colab": {
      "provenance": [],
      "toc_visible": true
    },
    "kernelspec": {
      "name": "python3",
      "display_name": "Python 3"
    },
    "language_info": {
      "name": "python"
    }
  },
  "cells": [
    {
      "cell_type": "code",
      "execution_count": 1,
      "metadata": {
        "colab": {
          "base_uri": "https://localhost:8080/"
        },
        "id": "kGYuATtqNLT3",
        "outputId": "ca5298ef-6ef8-4297-876e-5a8a3fe5f241"
      },
      "outputs": [
        {
          "output_type": "stream",
          "name": "stdout",
          "text": [
            "enter the first number: 1\n",
            "enter the second number: 2\n",
            "3\n"
          ]
        }
      ],
      "source": [
        "#Write a Python program that takes two numbers as input and calculates their sum.\n",
        "a=int(input(\"enter the first number: \"))\n",
        "b=int(input(\"enter the second number: \"))\n",
        "print(a+b)"
      ]
    },
    {
      "cell_type": "code",
      "source": [
        "#Write a Python program that checks if a given number is even or odd and prints an appropriate message.\n",
        "a=int(input(\"enter the number:\"))\n",
        "if a%2==0:\n",
        "  print(\"It is even number\")\n",
        "else:\n",
        "  print(\"it is not even number\")"
      ],
      "metadata": {
        "colab": {
          "base_uri": "https://localhost:8080/"
        },
        "id": "PJmY30MYe-pl",
        "outputId": "caa920c0-60c7-4a2c-bed7-9fa25313dd86"
      },
      "execution_count": 2,
      "outputs": [
        {
          "output_type": "stream",
          "name": "stdout",
          "text": [
            "enter the number:4\n",
            "It is even number\n"
          ]
        }
      ]
    },
    {
      "cell_type": "code",
      "source": [
        "#Write a Python program that takes a user's age as input and prints \"You are a minor\" if the age is less than 18,\n",
        "#\"You are an adult\" if the age is 18 or older but\n",
        "#less than 65, and \"You are a senior\" if the age is 65 or older.\n",
        "a=int(input('enter the age: '))\n",
        "if(a<18):\n",
        "  print(\"person is minor\")\n",
        "elif a>18 and a<65:\n",
        "  print(\"person is adult\")\n",
        "else:\n",
        "  print(\"person is senior\")"
      ],
      "metadata": {
        "colab": {
          "base_uri": "https://localhost:8080/"
        },
        "id": "Bcovkq71fkAn",
        "outputId": "a1d0a650-c999-4800-f578-3b34ee0ff8ff"
      },
      "execution_count": 4,
      "outputs": [
        {
          "output_type": "stream",
          "name": "stdout",
          "text": [
            "enter the age: 34\n",
            "person is adult\n"
          ]
        }
      ]
    },
    {
      "cell_type": "code",
      "source": [
        "#Write a Python program that calculates the area of a rectangle. It should take\n",
        "#the length and width as input from the user.\n",
        "length=int(input(\"enter the length: \"))\n",
        "width=int(input(\"enter the width: \"))\n",
        "print(length*width)"
      ],
      "metadata": {
        "colab": {
          "base_uri": "https://localhost:8080/"
        },
        "id": "8C4OQJ-cguHr",
        "outputId": "04eb76a3-205d-4d6c-8104-814093dac293"
      },
      "execution_count": 5,
      "outputs": [
        {
          "output_type": "stream",
          "name": "stdout",
          "text": [
            "enter the length: 12\n",
            "enter the width: 11\n",
            "132\n"
          ]
        }
      ]
    },
    {
      "cell_type": "code",
      "source": [
        "#Write a Python program that checks if a given year is a leap year. A leap year is\n",
        "#a year that is divisible by 4 but not divisible by 100, except if it is also divisible\n",
        "#by 400.\n",
        "year=int(input(\"enter the year: \"))\n",
        "if year%100!=0 and year%4==0:\n",
        "  print(\"year is a leap year\")\n",
        "elif year%100==0 and year%400==0:\n",
        "  print(\"year is a leap year\")\n",
        "else:\n",
        "  print(\"year is not a leap year\")"
      ],
      "metadata": {
        "colab": {
          "base_uri": "https://localhost:8080/"
        },
        "id": "0nuiR3XQhARX",
        "outputId": "a46502d7-8768-4cbc-9b87-e6a55c228d24"
      },
      "execution_count": 6,
      "outputs": [
        {
          "output_type": "stream",
          "name": "stdout",
          "text": [
            "enter the year: 2010\n",
            "year is not a leap year\n"
          ]
        }
      ]
    },
    {
      "cell_type": "code",
      "source": [
        "# Write a Python program that takes a user's score as input and assigns a letter\n",
        "# grade based on the following grading scale:\n",
        "# - A: 90-100\n",
        "# - B: 80-89\n",
        "# - C: 70-79\n",
        "# - D: 60-69\n",
        "# - F: Below 60\n",
        "score=int(input(\"enter the score: \"))\n",
        "if score>=90 and score<=100:\n",
        "  print(\"A\")\n",
        "elif score>=80 and score<=89:\n",
        "  print(\"B\")\n",
        "elif score>=70 and score<=79:\n",
        "  print(\"C\")\n",
        "elif score>=60 and score<=69:\n",
        "  print(\"D\")\n",
        "else:\n",
        "  print(\"F\")\n"
      ],
      "metadata": {
        "colab": {
          "base_uri": "https://localhost:8080/"
        },
        "id": "otuJL7miiE6I",
        "outputId": "0c10fd69-1340-42b0-c499-7d69b3895dab"
      },
      "execution_count": 8,
      "outputs": [
        {
          "output_type": "stream",
          "name": "stdout",
          "text": [
            "enter the score: 67\n",
            "D\n"
          ]
        }
      ]
    },
    {
      "cell_type": "code",
      "source": [
        "# Write a Python program that asks the user for their name and age. If the user's\n",
        "# age is less than 13, print \"Sorry, you are not eligible for this service.\"\n",
        "# Otherwise, print a greeting message with their name.\n",
        "name=input(\"enter your name: \")\n",
        "age=int(input(\"enter your age: \"))\n",
        "if age<13:\n",
        "  print(\"Sorry, you are not eligible for this service.\")\n",
        "else:\n",
        "  print(\"hello\",name)"
      ],
      "metadata": {
        "colab": {
          "base_uri": "https://localhost:8080/"
        },
        "id": "s1v-I37ZiWcg",
        "outputId": "4b69bc11-c0a1-4140-a870-0d10e50d8e21"
      },
      "execution_count": 9,
      "outputs": [
        {
          "output_type": "stream",
          "name": "stdout",
          "text": [
            "enter your name: sam\n",
            "enter your age: 14\n",
            "hello sam\n"
          ]
        }
      ]
    },
    {
      "cell_type": "code",
      "source": [
        "# Write a Python program that takes a number as input and checks if it is\n",
        "# positive, negative, or zero. Print an appropriate message based on the input.\n",
        "num=int(input(\"enter the number: \"))\n",
        "if num>0:\n",
        "  print(\"number is positive\")\n",
        "elif num<0:\n",
        "  print(\"number is negative\")\n",
        "else:\n",
        "  print(\"number is zero\")"
      ],
      "metadata": {
        "colab": {
          "base_uri": "https://localhost:8080/"
        },
        "id": "qyfEqK7EjXVX",
        "outputId": "e72987b9-c96b-44c2-8ba6-762472c76c6c"
      },
      "execution_count": 11,
      "outputs": [
        {
          "output_type": "stream",
          "name": "stdout",
          "text": [
            "enter the number: 12\n",
            "number is positive\n"
          ]
        }
      ]
    },
    {
      "cell_type": "code",
      "source": [
        "# Write a Python program that calculates the factorial of a given number. The\n",
        "# factorial of a non-negative integer n is the product of all positive integers less\n",
        "# than or equal to n\n",
        "num=int(input(\"enter the number: \"))\n",
        "total=1\n",
        "while(num>0):\n",
        "  total=total*num\n",
        "  num=num-1\n",
        "print(total)"
      ],
      "metadata": {
        "colab": {
          "base_uri": "https://localhost:8080/"
        },
        "id": "wxxU0BYtsEcm",
        "outputId": "b508ccfe-0af6-428c-9673-d3b6c33a1019"
      },
      "execution_count": 13,
      "outputs": [
        {
          "output_type": "stream",
          "name": "stdout",
          "text": [
            "enter the number: 5\n",
            "120\n"
          ]
        }
      ]
    },
    {
      "cell_type": "code",
      "source": [
        "# Write a Python program that checks if a given string is a palindrome. A\n",
        "# palindrome is a word, phrase, number, or other sequence of characters that\n",
        "# reads the same forward and backward (ignoring spaces, punctuation, and\n",
        "# capitalization).\n",
        "word=input(\"enter the string: \")\n",
        "a=True\n",
        "i=0\n",
        "j=len(word)-1\n",
        "while i<j:\n",
        "  if word[i]!=word[j]:\n",
        "    a=False\n",
        "  i+=1\n",
        "  j-=1\n",
        "if a==True:\n",
        "  print(\"the word is palindrome\")\n",
        "else:\n",
        "  print(\"The word is not palindrome\")"
      ],
      "metadata": {
        "colab": {
          "base_uri": "https://localhost:8080/"
        },
        "id": "4zkiAbeusliG",
        "outputId": "583029a3-044d-4e4e-9284-73b7d2edc865"
      },
      "execution_count": 15,
      "outputs": [
        {
          "output_type": "stream",
          "name": "stdout",
          "text": [
            "enter the string: asd\n",
            "The word is not palindrome\n"
          ]
        }
      ]
    },
    {
      "cell_type": "code",
      "source": [],
      "metadata": {
        "id": "g78kP8bqu8HL"
      },
      "execution_count": null,
      "outputs": []
    }
  ]
}
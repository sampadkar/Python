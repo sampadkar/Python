{
  "nbformat": 4,
  "nbformat_minor": 0,
  "metadata": {
    "colab": {
      "provenance": []
    },
    "kernelspec": {
      "name": "python3",
      "display_name": "Python 3"
    },
    "language_info": {
      "name": "python"
    }
  },
  "cells": [
    {
      "cell_type": "code",
      "execution_count": null,
      "metadata": {
        "colab": {
          "base_uri": "https://localhost:8080/"
        },
        "id": "EDduGCDxAK-q",
        "outputId": "fe22e2ee-7eab-4513-8673-7b97fb16c50d"
      },
      "outputs": [
        {
          "output_type": "stream",
          "name": "stdout",
          "text": [
            "10\n"
          ]
        }
      ],
      "source": [
        "# Write a Python program to sum all the items in a list.\n",
        "a=[1,2,3,4]\n",
        "sum =0\n",
        "for i in a:\n",
        "  sum+=i\n",
        "print(sum)"
      ]
    },
    {
      "cell_type": "code",
      "source": [
        "# Write a Python program to find the largest number in a list.\n",
        "a=[7,9,5,3]\n",
        "print(max(a))"
      ],
      "metadata": {
        "colab": {
          "base_uri": "https://localhost:8080/"
        },
        "id": "fDT2HbsuAWQe",
        "outputId": "a43edda2-797d-4cfb-cac0-0c8e82373357"
      },
      "execution_count": null,
      "outputs": [
        {
          "output_type": "stream",
          "name": "stdout",
          "text": [
            "9\n"
          ]
        }
      ]
    },
    {
      "cell_type": "code",
      "source": [
        "#  Write a Python program to find the smallest number in a list.\n",
        "a=[2,6,1,3]\n",
        "print(min(a))"
      ],
      "metadata": {
        "colab": {
          "base_uri": "https://localhost:8080/"
        },
        "id": "Yng8_wWcF85S",
        "outputId": "5cbd1572-489e-423e-a154-afb195d0b34c"
      },
      "execution_count": null,
      "outputs": [
        {
          "output_type": "stream",
          "name": "stdout",
          "text": [
            "1\n"
          ]
        }
      ]
    },
    {
      "cell_type": "code",
      "source": [
        "# Write a Python program to count the number of elements in a list\n",
        "a=[1,4,6,2,3,9,0]\n",
        "print(len(a))"
      ],
      "metadata": {
        "colab": {
          "base_uri": "https://localhost:8080/"
        },
        "id": "E33nBFQMGG6M",
        "outputId": "10c371c9-78a9-42bb-9672-fa01264d495d"
      },
      "execution_count": null,
      "outputs": [
        {
          "output_type": "stream",
          "name": "stdout",
          "text": [
            "7\n"
          ]
        }
      ]
    },
    {
      "cell_type": "code",
      "source": [
        "# Write a Python program to remove duplicates from a list.\n",
        "a=[1,9,4,5,1,3,2,1,4,2]\n",
        "a=set(a)\n",
        "print(list(a))"
      ],
      "metadata": {
        "colab": {
          "base_uri": "https://localhost:8080/"
        },
        "id": "cSmgCMs9GSJt",
        "outputId": "0ca369b1-71c7-47fd-8cf7-1e717dcfe79e"
      },
      "execution_count": null,
      "outputs": [
        {
          "output_type": "stream",
          "name": "stdout",
          "text": [
            "[1, 2, 3, 4, 5, 9]\n"
          ]
        }
      ]
    },
    {
      "cell_type": "code",
      "source": [
        "# Write a Python program to check if a list is empty or not.\n",
        "a=[1,5,3,5]\n",
        "if len(a)==0:\n",
        "  print(\"list is empty\")\n",
        "else:\n",
        "  print(\"list is not empty\")"
      ],
      "metadata": {
        "colab": {
          "base_uri": "https://localhost:8080/"
        },
        "id": "YFYu0bs3GcsH",
        "outputId": "5ddd9b54-c194-4df2-f0e1-3c9b7fee35df"
      },
      "execution_count": null,
      "outputs": [
        {
          "output_type": "stream",
          "name": "stdout",
          "text": [
            "list is not empty\n"
          ]
        }
      ]
    },
    {
      "cell_type": "code",
      "source": [
        "# Write a Python program to find the length of a tuple.\n",
        "a=(1,2,4,5,6)\n",
        "print(len(a))"
      ],
      "metadata": {
        "colab": {
          "base_uri": "https://localhost:8080/"
        },
        "id": "J9dO4Y1HHBty",
        "outputId": "f1bc8b31-1b44-4bb5-bc0b-21afd179fddb"
      },
      "execution_count": null,
      "outputs": [
        {
          "output_type": "stream",
          "name": "stdout",
          "text": [
            "5\n"
          ]
        }
      ]
    },
    {
      "cell_type": "code",
      "source": [
        "# Write a Python program to find the largest number in a tuple.\n",
        "a=(1,2,4,5,6)\n",
        "print(max(a))"
      ],
      "metadata": {
        "colab": {
          "base_uri": "https://localhost:8080/"
        },
        "id": "bcOpgzntHJ5O",
        "outputId": "770b155f-2107-4a8c-bbef-3ad8ea2e2b35"
      },
      "execution_count": null,
      "outputs": [
        {
          "output_type": "stream",
          "name": "stdout",
          "text": [
            "6\n"
          ]
        }
      ]
    },
    {
      "cell_type": "code",
      "source": [
        "# Write a Python program to find the smallest number in a tuple.\n",
        "a=(1,2,4,5,6)\n",
        "print(min(a))"
      ],
      "metadata": {
        "colab": {
          "base_uri": "https://localhost:8080/"
        },
        "id": "Hftiv48BHTlj",
        "outputId": "78c85eb7-6beb-4469-cb6b-22c00ab94bec"
      },
      "execution_count": null,
      "outputs": [
        {
          "output_type": "stream",
          "name": "stdout",
          "text": [
            "1\n"
          ]
        }
      ]
    },
    {
      "cell_type": "code",
      "source": [
        "# Write a Python program to count the number of elements in a tuple.\n",
        "a=(1,4,2,3,6)\n",
        "print(len(a))"
      ],
      "metadata": {
        "colab": {
          "base_uri": "https://localhost:8080/"
        },
        "id": "JPhhfEQ7Hf0H",
        "outputId": "36f3915b-a3e2-46cc-8201-13274e01c3a1"
      },
      "execution_count": null,
      "outputs": [
        {
          "output_type": "stream",
          "name": "stdout",
          "text": [
            "5\n"
          ]
        }
      ]
    },
    {
      "cell_type": "code",
      "source": [
        "# Write a Python program to check if a tuple is empty or not.\n",
        "a=(1,4,2,3,6)\n",
        "if(len(a)==0):\n",
        "  print(\"tuple is empty\")\n",
        "else:\n",
        "  print(\"tuple is not empty\")"
      ],
      "metadata": {
        "colab": {
          "base_uri": "https://localhost:8080/"
        },
        "id": "H-EEMqWcHqAJ",
        "outputId": "3ce3c8b8-66b8-456c-ba35-c62e4452aa9d"
      },
      "execution_count": null,
      "outputs": [
        {
          "output_type": "stream",
          "name": "stdout",
          "text": [
            "tuple is not empty\n"
          ]
        }
      ]
    },
    {
      "cell_type": "code",
      "source": [
        "# Write a Python program to check if a given element exists in a list\n",
        "a=[1,2,3,4,5,6,7]\n",
        "if 2 in a:\n",
        "  print(\"element exists\")\n",
        "else:\n",
        "  print(\"element does not exists\")"
      ],
      "metadata": {
        "colab": {
          "base_uri": "https://localhost:8080/"
        },
        "id": "N38Duu-uH2UC",
        "outputId": "acdde895-d69a-4413-c04a-2e74cb101150"
      },
      "execution_count": null,
      "outputs": [
        {
          "output_type": "stream",
          "name": "stdout",
          "text": [
            "element exists\n"
          ]
        }
      ]
    },
    {
      "cell_type": "code",
      "source": [
        "# Write a Python program to check if a given element exists in a tuple.\n",
        "a=(1,2,3,4,5,6,7)\n",
        "if 2 in a:\n",
        "  print(\"element exists\")\n",
        "else:\n",
        "  print(\"element does not exists\")"
      ],
      "metadata": {
        "colab": {
          "base_uri": "https://localhost:8080/"
        },
        "id": "TTdJeavuIBF5",
        "outputId": "a2811fd5-4394-47b4-c4ae-42f2917a563a"
      },
      "execution_count": null,
      "outputs": [
        {
          "output_type": "stream",
          "name": "stdout",
          "text": [
            "element exists\n"
          ]
        }
      ]
    },
    {
      "cell_type": "code",
      "source": [
        "# Write a Python program to check if a given key exists in a dictionary.\n",
        "dic={\n",
        "    1:[1,2,3,4],\n",
        "    2:[5,6,7,8]\n",
        "}\n",
        "if 2 in dic.keys():\n",
        "  print(\"key exists\")\n",
        "else:\n",
        "  print(\"key does not exists\")"
      ],
      "metadata": {
        "colab": {
          "base_uri": "https://localhost:8080/"
        },
        "id": "8gTU1ORtIILP",
        "outputId": "ab190e74-eca0-4068-fe6b-a57afcfc286e"
      },
      "execution_count": null,
      "outputs": [
        {
          "output_type": "stream",
          "name": "stdout",
          "text": [
            "key exists\n"
          ]
        }
      ]
    },
    {
      "cell_type": "code",
      "source": [
        "# Write a Python program to find the sum of all even numbers in a list.\n",
        "a=[i for i in range(1,20)]\n",
        "sum=0\n",
        "for i in a:\n",
        "  if(i%2==0):\n",
        "    sum+=i\n",
        "print(sum)"
      ],
      "metadata": {
        "colab": {
          "base_uri": "https://localhost:8080/"
        },
        "id": "c_BWpKUFIbXy",
        "outputId": "f52b4d04-e3d0-45ee-c82d-1bc96b29e6cf"
      },
      "execution_count": null,
      "outputs": [
        {
          "output_type": "stream",
          "name": "stdout",
          "text": [
            "90\n"
          ]
        }
      ]
    },
    {
      "cell_type": "code",
      "source": [
        "#  Write a Python program to find the sum of all odd numbers in a list.\n",
        "a=[i for i in range(1,20+1)]\n",
        "sum=0\n",
        "for i in a:\n",
        "  if(i%2!=0):\n",
        "    sum+=i\n",
        "print(sum)"
      ],
      "metadata": {
        "colab": {
          "base_uri": "https://localhost:8080/"
        },
        "id": "2C4Q5QJkIpKD",
        "outputId": "f57f26d4-d08c-4e18-a86f-64c7d6c0d184"
      },
      "execution_count": null,
      "outputs": [
        {
          "output_type": "stream",
          "name": "stdout",
          "text": [
            "100\n"
          ]
        }
      ]
    },
    {
      "cell_type": "code",
      "source": [
        "# Write a Python program to find the factorial of a number using recursion.\n",
        "def factorial(a):\n",
        "  if a==1:\n",
        "    return 1\n",
        "  else:\n",
        "    return a*factorial(a-1)\n",
        "print(factorial(5))"
      ],
      "metadata": {
        "colab": {
          "base_uri": "https://localhost:8080/"
        },
        "id": "uChNhe8mJAKN",
        "outputId": "38ebb0c3-5795-4a01-dc0b-00472c30f80b"
      },
      "execution_count": null,
      "outputs": [
        {
          "output_type": "stream",
          "name": "stdout",
          "text": [
            "120\n"
          ]
        }
      ]
    },
    {
      "cell_type": "code",
      "source": [
        "# Write a Python program to find the factorial of a number using a loop.\n",
        "def recursion(a):\n",
        "  sum=1\n",
        "  for i in range(1,a+1):\n",
        "    sum*=i\n",
        "  return sum\n",
        "print(recursion(5))"
      ],
      "metadata": {
        "colab": {
          "base_uri": "https://localhost:8080/"
        },
        "id": "tfKakfuOKJgI",
        "outputId": "2296a6c1-61ad-4074-ac0c-6583dcb81348"
      },
      "execution_count": null,
      "outputs": [
        {
          "output_type": "stream",
          "name": "stdout",
          "text": [
            "120\n"
          ]
        }
      ]
    },
    {
      "cell_type": "code",
      "source": [
        "# Write a Python program to check if a number is prime or not.\n",
        "def prime(a):\n",
        "  for i in range(2,(a//2)):\n",
        "    if(a%i==0):\n",
        "      return \"not prime\"\n",
        "  return \"Prime\"\n",
        "print(prime(7))"
      ],
      "metadata": {
        "colab": {
          "base_uri": "https://localhost:8080/"
        },
        "id": "NaL9XbQHK4Tm",
        "outputId": "2c15ed5e-2f0c-4f11-d347-9b2661aef71c"
      },
      "execution_count": null,
      "outputs": [
        {
          "output_type": "stream",
          "name": "stdout",
          "text": [
            "Prime\n"
          ]
        }
      ]
    },
    {
      "cell_type": "code",
      "source": [
        "# Write a Python program to find the Fibonacci series up to n terms.\n",
        "num=int(input(\"enter the number: \"))\n",
        "a=0\n",
        "b=1\n",
        "for i in range(num):\n",
        "  print(a)\n",
        "  c=a+b\n",
        "  a=b\n",
        "  b=c"
      ],
      "metadata": {
        "colab": {
          "base_uri": "https://localhost:8080/"
        },
        "id": "VrYmi834LTew",
        "outputId": "1385b7f4-6bad-4bfb-9c78-e339b4bc3ba4"
      },
      "execution_count": null,
      "outputs": [
        {
          "output_type": "stream",
          "name": "stdout",
          "text": [
            "enter the number10\n",
            "0\n",
            "1\n",
            "1\n",
            "2\n",
            "3\n",
            "5\n",
            "8\n",
            "13\n",
            "21\n",
            "34\n"
          ]
        }
      ]
    },
    {
      "cell_type": "code",
      "source": [
        "# Write a Python program to find the GCD of two numbers.\n"
      ],
      "metadata": {
        "id": "BXlDSBA2LWTU"
      },
      "execution_count": null,
      "outputs": []
    },
    {
      "cell_type": "code",
      "source": [
        "# Write a Python program to find the LCM of two numbers."
      ],
      "metadata": {
        "id": "-p6rJ3pGTUfV"
      },
      "execution_count": null,
      "outputs": []
    },
    {
      "cell_type": "code",
      "source": [
        "# Write a Python program to reverse a list.\n",
        "a=[1,2,3,4,5,6,7]\n",
        "b=[]\n",
        "for i in range(len(a)-1,-1,-1):\n",
        "  b.append(a[i])\n",
        "print(b)\n",
        "\n"
      ],
      "metadata": {
        "colab": {
          "base_uri": "https://localhost:8080/"
        },
        "id": "RjzdyInLTj1B",
        "outputId": "63e72c54-12db-45c5-f53f-86ba11afbf9d"
      },
      "execution_count": 6,
      "outputs": [
        {
          "output_type": "stream",
          "name": "stdout",
          "text": [
            "[7, 6, 5, 4, 3, 2, 1]\n"
          ]
        }
      ]
    },
    {
      "cell_type": "code",
      "source": [
        "# Write a Python program to sort a list in ascending order\n",
        "#Write a Python program to sort a list in descending order\n",
        "a=[1,2,3,4,2,3,9,5,7]\n",
        "a.sort()\n",
        "print(a)\n",
        "a.reverse()\n",
        "print(a)"
      ],
      "metadata": {
        "colab": {
          "base_uri": "https://localhost:8080/"
        },
        "id": "e4ebR24_UCPe",
        "outputId": "febb7f5c-313c-495f-ed5a-b4bf7067cd32"
      },
      "execution_count": 10,
      "outputs": [
        {
          "output_type": "stream",
          "name": "stdout",
          "text": [
            "[1, 2, 2, 3, 3, 4, 5, 7, 9]\n",
            "[9, 7, 5, 4, 3, 3, 2, 2, 1]\n"
          ]
        }
      ]
    },
    {
      "cell_type": "code",
      "source": [],
      "metadata": {
        "id": "eCJxDcbeUiuq"
      },
      "execution_count": null,
      "outputs": []
    }
  ]
}
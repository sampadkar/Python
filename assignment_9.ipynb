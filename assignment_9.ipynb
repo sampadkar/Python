{
  "nbformat": 4,
  "nbformat_minor": 0,
  "metadata": {
    "colab": {
      "provenance": []
    },
    "kernelspec": {
      "name": "python3",
      "display_name": "Python 3"
    },
    "language_info": {
      "name": "python"
    }
  },
  "cells": [
    {
      "cell_type": "code",
      "execution_count": null,
      "metadata": {
        "id": "zt3NvKkTM6BL"
      },
      "outputs": [],
      "source": [
        "# Write a function count_occurrences that takes a list and a target element as\n",
        "# parameters and returns the number of times the target element appears in the list.\n",
        "n=int(input(\"enter the number of elements in the list:\"))\n",
        "l=[]\n",
        "for i in range(0,n):\n",
        "  l.append(int(input(\"enter the element:\")))\n",
        "num=int(input(\"enter the number which youn want: \"))\n",
        "def count_occurrance(l,num):\n",
        "  count=0\n",
        "  for i in l:\n",
        "    if i==num:\n",
        "      count+=1\n",
        "  return count\n",
        "print(count_occurrance(l,num))\n"
      ]
    },
    {
      "cell_type": "code",
      "source": [
        "# Create a function concat_lists that takes two lists as parameters and returns a new list\n",
        "# that is the concatenation of the input lists.\n",
        "def concate(l1,l2):\n",
        "  l3=l1+l2\n",
        "  return l3\n",
        "l1=[1,2,3]\n",
        "l2=[4,5,6]\n",
        "print(concate(l1,l2))"
      ],
      "metadata": {
        "colab": {
          "base_uri": "https://localhost:8080/"
        },
        "id": "kx0VP45hOB1k",
        "outputId": "002b9329-f3df-411e-d39a-de7a0ebcde64"
      },
      "execution_count": 1,
      "outputs": [
        {
          "output_type": "stream",
          "name": "stdout",
          "text": [
            "[1, 2, 3, 4, 5, 6]\n"
          ]
        }
      ]
    },
    {
      "cell_type": "code",
      "source": [
        "# Implement a function is_palindrome that takes a string as a parameter and returns\n",
        "# True if it is a palindrome (reads the same backward as forward), and False otherwise.\n",
        "def palindrome(string):\n",
        "  if string==string[::-1]:\n",
        "    return True\n",
        "  else:\n",
        "    return False\n",
        "num=input(\"enter the string:\")\n",
        "print(palindrome(num))"
      ],
      "metadata": {
        "colab": {
          "base_uri": "https://localhost:8080/"
        },
        "id": "O0OAxKKnOJwx",
        "outputId": "6e6aa865-fa92-4b83-e411-92cd17921be4"
      },
      "execution_count": 3,
      "outputs": [
        {
          "output_type": "stream",
          "name": "stdout",
          "text": [
            "enter the string:malayalam\n",
            "True\n"
          ]
        }
      ]
    },
    {
      "cell_type": "code",
      "source": [
        "# Define a function find_common_elements that takes two lists as parameters and\n",
        "# returns a new list containing the common elements between the two input lists.\n",
        "def common_element(l1,l2):\n",
        "  l3=[]\n",
        "  for i in l1:\n",
        "    if i in l2:\n",
        "      l3.append(i)\n",
        "  return l3\n",
        "l1=[1,2,3,4,5]\n",
        "l2=[3,4,5,6,7]\n",
        "print(common_element(l1,l2))"
      ],
      "metadata": {
        "colab": {
          "base_uri": "https://localhost:8080/"
        },
        "id": "08cjC1rRPBcP",
        "outputId": "ab64c8c8-ae6f-43e0-c5fb-24a24ba519a2"
      },
      "execution_count": 4,
      "outputs": [
        {
          "output_type": "stream",
          "name": "stdout",
          "text": [
            "[3, 4, 5]\n"
          ]
        }
      ]
    },
    {
      "cell_type": "code",
      "source": [
        "# Write a function capitalize_names that takes a list of names as parameters and returns\n",
        "# a new list where each name is capitalized.\n",
        "def capitalize(name):\n",
        "  l=[]\n",
        "  for i in name:\n",
        "    l.append(i.capitalize())\n",
        "  return l\n",
        "name=['sam','tom','jerry']\n",
        "print(capitalize(name))"
      ],
      "metadata": {
        "colab": {
          "base_uri": "https://localhost:8080/"
        },
        "id": "Rt8z37-3Pf7P",
        "outputId": "d4790133-cf6d-4ab4-ad94-52a6936ffddc"
      },
      "execution_count": 5,
      "outputs": [
        {
          "output_type": "stream",
          "name": "stdout",
          "text": [
            "['Sam', 'Tom', 'Jerry']\n"
          ]
        }
      ]
    },
    {
      "cell_type": "code",
      "source": [],
      "metadata": {
        "id": "fIggvvV4P_II"
      },
      "execution_count": null,
      "outputs": []
    }
  ]
}
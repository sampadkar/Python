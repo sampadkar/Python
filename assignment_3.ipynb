{
  "nbformat": 4,
  "nbformat_minor": 0,
  "metadata": {
    "colab": {
      "provenance": []
    },
    "kernelspec": {
      "name": "python3",
      "display_name": "Python 3"
    },
    "language_info": {
      "name": "python"
    }
  },
  "cells": [
    {
      "cell_type": "code",
      "execution_count": 1,
      "metadata": {
        "colab": {
          "base_uri": "https://localhost:8080/"
        },
        "id": "xqv5twqPwLkW",
        "outputId": "12bd351c-4dfe-4080-ed63-b5897730c71a"
      },
      "outputs": [
        {
          "output_type": "stream",
          "name": "stdout",
          "text": [
            "5\n"
          ]
        }
      ],
      "source": [
        "# Declare an integer variable x with the value 5. Print the value of x.\n",
        "x=5\n",
        "print(x)"
      ]
    },
    {
      "cell_type": "code",
      "source": [
        "# Create a floating-point variable y with the value 3.14. Print the value of y\n",
        "y=3.14\n",
        "print(y)"
      ],
      "metadata": {
        "colab": {
          "base_uri": "https://localhost:8080/"
        },
        "id": "ihyeeKeUwfGI",
        "outputId": "a26f5481-b092-400e-f942-857442fc4fe4"
      },
      "execution_count": 2,
      "outputs": [
        {
          "output_type": "stream",
          "name": "stdout",
          "text": [
            "3.14\n"
          ]
        }
      ]
    },
    {
      "cell_type": "code",
      "source": [
        "# Convert the string \"123\" to an integer and store it in a variable num\n",
        "num=\"123\"\n",
        "print(num)\n",
        "print(int(num))"
      ],
      "metadata": {
        "colab": {
          "base_uri": "https://localhost:8080/"
        },
        "id": "Cbh0ym1NwksT",
        "outputId": "e1a45865-2049-4a5b-8cf8-915cef50b127"
      },
      "execution_count": 5,
      "outputs": [
        {
          "output_type": "stream",
          "name": "stdout",
          "text": [
            "123\n",
            "123\n"
          ]
        }
      ]
    },
    {
      "cell_type": "code",
      "source": [
        "# Convert the integer 42 to a string and store it in a variable str_num.\n",
        "str_num=42\n",
        "print(str_num)\n",
        "print(str(str_num))"
      ],
      "metadata": {
        "colab": {
          "base_uri": "https://localhost:8080/"
        },
        "id": "0iTTxpsCwzJl",
        "outputId": "c1617781-e6f7-48e0-927b-87cdd6585950"
      },
      "execution_count": 6,
      "outputs": [
        {
          "output_type": "stream",
          "name": "stdout",
          "text": [
            "42\n",
            "42\n"
          ]
        }
      ]
    },
    {
      "cell_type": "code",
      "source": [
        "# Write a Python program that checks if a number entered by the user is both positive and even using the\n",
        "num=int(input(\"enter the number: \"))\n",
        "if(num>0 and num%2==0):\n",
        "  print(\"positive and even\")\n",
        "else:\n",
        "  print(\"not positive and even\")"
      ],
      "metadata": {
        "colab": {
          "base_uri": "https://localhost:8080/"
        },
        "id": "e7vr3R7oxIqm",
        "outputId": "b12156b3-75d9-4217-cc84-3d382eb349c6"
      },
      "execution_count": 7,
      "outputs": [
        {
          "output_type": "stream",
          "name": "stdout",
          "text": [
            "enter the number: 1\n",
            "not positive and even\n"
          ]
        }
      ]
    },
    {
      "cell_type": "code",
      "source": [
        "# Create a Python program that checks if a character entered by the user is either an uppercase letter or a\n",
        "# digit using the or operator.\n",
        "char=input(\"enter the character:\")\n",
        "if(char.isupper()or char.isdigit()):\n",
        "  print(\"uppercase letter or digit\")\n",
        "else:\n",
        "  print(\"not uppercase letter or digit\")"
      ],
      "metadata": {
        "colab": {
          "base_uri": "https://localhost:8080/"
        },
        "id": "WTHMXu4Pxjxi",
        "outputId": "15ec4bca-3e6a-44a4-e9c0-8f216042717e"
      },
      "execution_count": 8,
      "outputs": [
        {
          "output_type": "stream",
          "name": "stdout",
          "text": [
            "enter the character:sam\n",
            "not uppercase letter or digit\n"
          ]
        }
      ]
    },
    {
      "cell_type": "code",
      "source": [
        "# Write a Python program that checks if a user-entered string is not empty using the not operator\n",
        "str=input(\"enter the string: \")\n",
        "if(not)"
      ],
      "metadata": {
        "id": "ZdlkCzBfyASt"
      },
      "execution_count": null,
      "outputs": []
    },
    {
      "cell_type": "code",
      "source": [
        "# Create a Python program that checks if a number entered by the user is divisible by either 3 or 5 but not\n",
        "# both.\n",
        "num=int(input(\"enter the number:\"))\n",
        "if(num%3==0 and num%5!=0):\n",
        "  print(\"divisible by 3 but not 5\")\n",
        "elif(num%3!=0 and num%5==0):\n",
        "  print(\"divisible by 5 but not 3\")\n",
        "elif(num%15==0):\n",
        "  print(\"divisible by 3 and 5\")\n",
        "else:\n",
        "  print(\"not divisible by 3 and 5\")"
      ],
      "metadata": {
        "colab": {
          "base_uri": "https://localhost:8080/"
        },
        "id": "57payOtE0ahW",
        "outputId": "8e6b5a8e-5c13-4de4-e64f-0624a81da1da"
      },
      "execution_count": 9,
      "outputs": [
        {
          "output_type": "stream",
          "name": "stdout",
          "text": [
            "enter the number:45\n",
            "divisible by 3 and 5\n"
          ]
        }
      ]
    },
    {
      "cell_type": "code",
      "source": [
        "# Write a Python program that checks if a student's score is between 0 and 100 (inclusive) using logical\n",
        "# operators. If it is, print \"Valid score,\" otherwise, print \"Invalid score.\"\n",
        "score=int(input(\"enter the score:\"))\n",
        "if(score>=0 and score<=100):\n",
        "  print(\"valid score\")\n",
        "else:\n",
        "  print(\"invalid score\")"
      ],
      "metadata": {
        "colab": {
          "base_uri": "https://localhost:8080/"
        },
        "id": "fzb-NCcY1Bcg",
        "outputId": "e403cad2-6ef8-4523-d7ef-122492e9947d"
      },
      "execution_count": 10,
      "outputs": [
        {
          "output_type": "stream",
          "name": "stdout",
          "text": [
            "enter the score:23\n",
            "valid score\n"
          ]
        }
      ]
    },
    {
      "cell_type": "code",
      "source": [
        "# Create a Python program that asks the user for their age. If their age is between 18 and 65 (inclusive),\n",
        "# print \"You are eligible for work,\" otherwise, print \"You are not eligible for work.\"\n",
        "age=int(input(\"enter the age\"))\n",
        "if age>=18 and age<=65:\n",
        "  print(\"you are eligible for work\")\n",
        "else:\n",
        "  print(\"you are not eligible for work\")"
      ],
      "metadata": {
        "id": "E85jclg61KXY"
      },
      "execution_count": null,
      "outputs": []
    },
    {
      "cell_type": "code",
      "source": [
        "# Write a Python program that takes a number as input from the user and doubles it using the *= assignment\n",
        "# operator. Print the result.\n",
        "a=int(input(\"enter the number\"))\n",
        "a*=2\n",
        "print(a)"
      ],
      "metadata": {
        "id": "CqWz11f31eWj"
      },
      "execution_count": null,
      "outputs": []
    },
    {
      "cell_type": "code",
      "source": [
        "# Write a Python program to swap the values of two variables x and y without using a temporary variable,\n",
        "# using assignment operators.\n",
        "x=input(\"enter the value of x:\")\n",
        "y=input(\"enter the value of y:\")\n",
        "x,y=y,x\n",
        "print(\"value of x:\",x)\n",
        "print(\"value of y:\",y)"
      ],
      "metadata": {
        "colab": {
          "base_uri": "https://localhost:8080/"
        },
        "id": "TSPcZ61Z3giq",
        "outputId": "0a72e18d-784b-4e5d-afed-541e0e709a44"
      },
      "execution_count": 11,
      "outputs": [
        {
          "output_type": "stream",
          "name": "stdout",
          "text": [
            "enter the value of x:1\n",
            "enter the value of y:2\n",
            "value of x: 2\n",
            "value of y: 1\n"
          ]
        }
      ]
    },
    {
      "cell_type": "code",
      "source": [
        "# Implement a Python program that keeps doubling a number x until it reaches or exceeds 100, using\n",
        "# assignment operators\n",
        "x=int(input(\"enter the number: \"))\n",
        "while(x<100):\n",
        "  x*=2\n",
        "print(\"final value\",x/2)"
      ],
      "metadata": {
        "colab": {
          "base_uri": "https://localhost:8080/"
        },
        "id": "3HbjP8Sc3t3S",
        "outputId": "7e2828f8-d50c-4159-86a3-c39c25f324f9"
      },
      "execution_count": 15,
      "outputs": [
        {
          "output_type": "stream",
          "name": "stdout",
          "text": [
            "enter the number: 3\n",
            "final value 96.0\n"
          ]
        }
      ]
    },
    {
      "cell_type": "code",
      "source": [
        "# Create a Python program that calculates and prints the average of three numbers entered by the user\n",
        "# using the /= assignment operator.\n",
        "a=int(input(\"enter the number: \"))\n",
        "b=int(input(\"enter the number: \"))\n",
        "c=int(input(\"enter the number: \"))\n",
        "print(\"average: \",(a+b+c)/3)"
      ],
      "metadata": {
        "colab": {
          "base_uri": "https://localhost:8080/"
        },
        "id": "tRk6kpuj4JAR",
        "outputId": "3aebec08-1346-41c1-9a86-50fd822370c6"
      },
      "execution_count": 17,
      "outputs": [
        {
          "output_type": "stream",
          "name": "stdout",
          "text": [
            "enter the number: 2\n",
            "enter the number: 2\n",
            "enter the number: 2\n",
            "average:  2.0\n"
          ]
        }
      ]
    },
    {
      "cell_type": "code",
      "source": [
        "# Write a Python program that calculates and prints the square of a number entered by the user using the\n",
        "# **= assignment operator.\n",
        "a=int(input(\"enter the number: \"))\n",
        "print(\"square: \",a**2)"
      ],
      "metadata": {
        "colab": {
          "base_uri": "https://localhost:8080/"
        },
        "id": "wajMHlp65WOY",
        "outputId": "09a090f6-80b5-4926-c1cd-62d21cf10052"
      },
      "execution_count": 18,
      "outputs": [
        {
          "output_type": "stream",
          "name": "stdout",
          "text": [
            "enter the number: 2\n",
            "square:  4\n"
          ]
        }
      ]
    },
    {
      "cell_type": "code",
      "source": [
        "# Create a Python program that compares the lengths of two strings entered by the user and prints\n",
        "# whether they have the same length, different lengths, or if one is longer than the other.\n",
        "a=input(\"enter the string: \")\n",
        "b=input(\"enter the string: \")\n",
        "if(len(a)==len(b)):\n",
        "  print(\"same length\")\n",
        "elif(len(a)>len(b)):\n",
        "  print(\"a is longer than b\")\n",
        "else:\n",
        "  print(\"b is longer than a\")"
      ],
      "metadata": {
        "id": "UlY1J5Ch5xWr"
      },
      "execution_count": null,
      "outputs": []
    },
    {
      "cell_type": "code",
      "source": [
        "# Write a Python program that checks if a given year is a leap year or not, using comparison operators to\n",
        "# check divisibility.\n",
        "year=int(input(\"enter the year: \"))\n",
        "if(year%4==0 and year%100!=0):\n",
        "  print('the year is a leap year')\n",
        "elif year%100==0 and year%400:\n",
        "  print(\"this year is a leap year\")\n",
        "else:\n",
        "  print('the year is not a leap year')\n"
      ],
      "metadata": {
        "id": "V3nSV-Vc6KQZ"
      },
      "execution_count": null,
      "outputs": []
    },
    {
      "cell_type": "code",
      "source": [
        "# Calculate the result of 7 divided by 2 and assign it to a variable result.\n",
        "a=7\n",
        "result=a/2\n",
        "print(result)"
      ],
      "metadata": {
        "colab": {
          "base_uri": "https://localhost:8080/"
        },
        "id": "XTmsTylg8Knt",
        "outputId": "b310c180-4dab-49c1-cc7e-1e5ade2b2cf8"
      },
      "execution_count": 20,
      "outputs": [
        {
          "output_type": "stream",
          "name": "stdout",
          "text": [
            "3.5\n"
          ]
        }
      ]
    },
    {
      "cell_type": "code",
      "source": [
        "# Calculate the remainder when 17 is divided by 5 and store it in a variable remainder.\n",
        "a=17\n",
        "b=a%5\n",
        "print(b)"
      ],
      "metadata": {
        "colab": {
          "base_uri": "https://localhost:8080/"
        },
        "id": "aDL9tpYf8yKs",
        "outputId": "16167dd7-2576-4f20-c491-77079357fd4a"
      },
      "execution_count": 22,
      "outputs": [
        {
          "output_type": "stream",
          "name": "stdout",
          "text": [
            "2\n"
          ]
        }
      ]
    },
    {
      "cell_type": "code",
      "source": [
        "# Write a Python program that calculates the sum of all even numbers between 1 and 50 using arithmetic\n",
        "# operators and loops.\n",
        "sum=0\n",
        "for i in range(1,51):\n",
        "  if(i%2==0):\n",
        "    sum+=i\n",
        "print(sum)\n",
        "\n",
        ""
      ],
      "metadata": {
        "colab": {
          "base_uri": "https://localhost:8080/"
        },
        "id": "tvx4D4Bb9Dzh",
        "outputId": "d57df38b-41b8-4cda-d392-b4b76c6215f5"
      },
      "execution_count": 24,
      "outputs": [
        {
          "output_type": "stream",
          "name": "stdout",
          "text": [
            "650\n"
          ]
        }
      ]
    },
    {
      "cell_type": "code",
      "source": [
        "# Write a Python program that takes two numbers as input from the user and prints their sum\n",
        "a=int(input(\"enter the number: \"))\n",
        "b=int(input(\"enter the number: \"))\n",
        "print(a+b)"
      ],
      "metadata": {
        "id": "IZ_guzZb9d5y"
      },
      "execution_count": null,
      "outputs": []
    },
    {
      "cell_type": "code",
      "source": [
        "# Write a Python program that takes two numbers as input from the user, but with a twist. The program\n",
        "# should only accept input if the sum of the two numbers is less than 100. If the sum is 100 or greater, the\n",
        "# program should ask the user to re-enter both numbers until the sum is less than 100, and then it should\n",
        "# print the sum. Using Loop"
      ],
      "metadata": {
        "id": "rzDuiIK39pFD"
      },
      "execution_count": null,
      "outputs": []
    },
    {
      "cell_type": "code",
      "source": [
        "# Write a program that calculates and prints the area of a rectangle given its length and width (inputs from\n",
        "# the user\n",
        "length=int(input(\"enter the length:\"))\n",
        "width=int(input(\"enter the width:\"))\n",
        "print(f\"The area of triangle: {length*width/2}\")"
      ],
      "metadata": {
        "colab": {
          "base_uri": "https://localhost:8080/"
        },
        "id": "LsIQeaucbdIa",
        "outputId": "05ec6e85-4903-4693-8972-e8534a15b77e"
      },
      "execution_count": 1,
      "outputs": [
        {
          "output_type": "stream",
          "name": "stdout",
          "text": [
            "enter the length:3\n",
            "enter the width:4\n",
            "The area of triangle: 6.0\n"
          ]
        }
      ]
    },
    {
      "cell_type": "code",
      "source": [
        "# Take two number inputs from user.\n",
        "# 1. Find out the square of the given two numbers and store the value in different two variables\n",
        "# 2. Find out the average of the numbers\n",
        "# 3. Find out the datatype of the average value\n",
        "# 4. Now find out the remainder of the Average value when the value is divided by 2\n",
        "# 5. Print the final outcome in Integer Format\n",
        "# 6. Write a Python program that calculates and prints the square root of a given positive number. If\n",
        "# the number is negative, print an error message.\n",
        "a=int(input(\"enter the first number: \"))\n",
        "b=int(input(\"enter the first number: \"))\n",
        "c=[]\n",
        "c.append(a**2)\n",
        "c.append(b**2)\n",
        "print((a+b)/2)\n",
        "print(type((a+b)/2))\n",
        "print(((a+b)/2)%2)\n",
        "print(int((a+b)/2))\n",
        "print(a**(1/2))\n",
        "print(b**(1/2))"
      ],
      "metadata": {
        "colab": {
          "base_uri": "https://localhost:8080/"
        },
        "id": "6dn8uMYwcSxh",
        "outputId": "0a6e9e60-e13b-4516-8c6f-2b464d964fc1"
      },
      "execution_count": 6,
      "outputs": [
        {
          "output_type": "stream",
          "name": "stdout",
          "text": [
            "enter the first number: 4\n",
            "enter the first number: 9\n",
            "6.5\n",
            "<class 'float'>\n",
            "0.5\n",
            "6\n",
            "2.0\n",
            "3.0\n"
          ]
        }
      ]
    },
    {
      "cell_type": "code",
      "source": [],
      "metadata": {
        "id": "VNRIQnKnduOj"
      },
      "execution_count": null,
      "outputs": []
    }
  ]
}
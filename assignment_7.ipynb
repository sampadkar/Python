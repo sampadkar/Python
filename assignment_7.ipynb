{
  "nbformat": 4,
  "nbformat_minor": 0,
  "metadata": {
    "colab": {
      "provenance": []
    },
    "kernelspec": {
      "name": "python3",
      "display_name": "Python 3"
    },
    "language_info": {
      "name": "python"
    }
  },
  "cells": [
    {
      "cell_type": "code",
      "execution_count": 1,
      "metadata": {
        "colab": {
          "base_uri": "https://localhost:8080/"
        },
        "id": "coHc1hAZVRc8",
        "outputId": "719c01d2-ab74-4b00-9dea-b0c7aac4cc8f"
      },
      "outputs": [
        {
          "output_type": "stream",
          "name": "stdout",
          "text": [
            "1\n",
            "2\n",
            "3\n",
            "4\n",
            "5\n",
            "6\n",
            "7\n",
            "8\n",
            "9\n",
            "10\n"
          ]
        }
      ],
      "source": [
        "# Write a Python program that prints the numbers from 1 to 10 using a for\n",
        "# loop.\n",
        "for i in range(1,11):\n",
        "  print(i)"
      ]
    },
    {
      "cell_type": "code",
      "source": [
        "# Write a Python program that prints the sum of the first n natural numbers,\n",
        "# where n is given by the user.\n",
        "n=int(input(\"Enter the value of n: \"))\n",
        "sum=0\n",
        "for i in range(n+1):\n",
        "  sum=sum+i\n",
        "print(sum)"
      ],
      "metadata": {
        "colab": {
          "base_uri": "https://localhost:8080/"
        },
        "id": "MyF26U-UVii6",
        "outputId": "479c246a-9a9d-410b-cc04-f9e15de494a5"
      },
      "execution_count": 3,
      "outputs": [
        {
          "output_type": "stream",
          "name": "stdout",
          "text": [
            "Enter the value of n: 10\n",
            "55\n"
          ]
        }
      ]
    },
    {
      "cell_type": "code",
      "source": [
        "# Write a Python program that prints the factorial of a given number n, where\n",
        "# n is given by the user.\n",
        "n=int(input(\"Enter the value of n: \"))\n",
        "def factorial(n):\n",
        "  fact=1\n",
        "  for i in range(1,n+1):\n",
        "    fact=fact*i\n",
        "  return fact\n",
        "print(factorial(n))"
      ],
      "metadata": {
        "colab": {
          "base_uri": "https://localhost:8080/"
        },
        "id": "uujIj7VFV1UH",
        "outputId": "23f12d0c-f3b7-481d-dcf1-f2ef1bb2a05b"
      },
      "execution_count": 5,
      "outputs": [
        {
          "output_type": "stream",
          "name": "stdout",
          "text": [
            "Enter the value of n: 5\n",
            "120\n"
          ]
        }
      ]
    },
    {
      "cell_type": "code",
      "source": [
        "# Write a Python program that prints all the even numbers from 2 to 20 using\n",
        "# a for loop.\n",
        "for i in range(2,21):\n",
        "  if(i%2==0):\n",
        "    print(i)"
      ],
      "metadata": {
        "colab": {
          "base_uri": "https://localhost:8080/"
        },
        "id": "8xWWj6VzWSBD",
        "outputId": "e0ff46c7-6ce7-47f0-919a-ba831e15e5f7"
      },
      "execution_count": 6,
      "outputs": [
        {
          "output_type": "stream",
          "name": "stdout",
          "text": [
            "2\n",
            "4\n",
            "6\n",
            "8\n",
            "10\n",
            "12\n",
            "14\n",
            "16\n",
            "18\n",
            "20\n"
          ]
        }
      ]
    },
    {
      "cell_type": "code",
      "source": [
        "# Write a Python program that prints the multiplication table of a given\n",
        "# number n, where n is given by the user.\n",
        "n=int(input(\"Enter the value of n: \"))\n",
        "for i in range(1,11):\n",
        "  print(f\"{n}*{i}={n*i}\")"
      ],
      "metadata": {
        "colab": {
          "base_uri": "https://localhost:8080/"
        },
        "id": "i3OgiUIAWrRf",
        "outputId": "43a9a7ff-4af7-4069-d6ea-dd44e0b0d2aa"
      },
      "execution_count": 7,
      "outputs": [
        {
          "output_type": "stream",
          "name": "stdout",
          "text": [
            "Enter the value of n: 5\n",
            "5*1=5\n",
            "5*2=10\n",
            "5*3=15\n",
            "5*4=20\n",
            "5*5=25\n",
            "5*6=30\n",
            "5*7=35\n",
            "5*8=40\n",
            "5*9=45\n",
            "5*10=50\n"
          ]
        }
      ]
    },
    {
      "cell_type": "code",
      "source": [
        "# Write a Python program that prints the Fibonacci sequence up to a given\n",
        "# number n, where n is given by the user.\n",
        "def fibonacci(n):\n",
        "  t1=0\n",
        "  t2=1\n",
        "  for i in range(n):\n",
        "    print(t1)\n",
        "    t3=t1+t2\n",
        "    t1=t2\n",
        "    t2=t3\n",
        "n=int(input(\"Enter the value of n: \"))\n",
        "fibonacci(n)"
      ],
      "metadata": {
        "colab": {
          "base_uri": "https://localhost:8080/"
        },
        "id": "AcK8DpIHXCN6",
        "outputId": "bbb9bc66-ba69-4203-fd49-699ed73e38aa"
      },
      "execution_count": 13,
      "outputs": [
        {
          "output_type": "stream",
          "name": "stdout",
          "text": [
            "0\n",
            "1\n",
            "1\n",
            "2\n",
            "3\n"
          ]
        }
      ]
    },
    {
      "cell_type": "code",
      "source": [
        "# Write a Python program that prints the number of vowels in a given string\n",
        "# s, where s is given by the user.\n",
        "s=input(\"enter the string: \")\n",
        "a=s.lower()\n",
        "total=0\n",
        "for i in range(len(s)):\n",
        "  if a[i] in ['a','e','i','o','u']:\n",
        "    total+=1\n",
        "print(total)\n"
      ],
      "metadata": {
        "colab": {
          "base_uri": "https://localhost:8080/"
        },
        "id": "r2wRcZ67YOnB",
        "outputId": "baa24d78-c3ed-4402-df1d-af3067f1355e"
      },
      "execution_count": 16,
      "outputs": [
        {
          "output_type": "stream",
          "name": "stdout",
          "text": [
            "enter the string: SAMPAD\n",
            "2\n"
          ]
        }
      ]
    },
    {
      "cell_type": "code",
      "source": [
        "# Write a Python program that prints the reverse of a given string s, where s\n",
        "# is given by the user.\n",
        "s=input(\"enter the string: \")\n",
        "string=''\n",
        "for i in range(len(s)-1,-1,-1):\n",
        "  string+=s[i]\n",
        "print(string)"
      ],
      "metadata": {
        "colab": {
          "base_uri": "https://localhost:8080/"
        },
        "id": "D0_H0y2Taa8B",
        "outputId": "91438923-713c-41c8-81e5-630977d6d6ff"
      },
      "execution_count": 17,
      "outputs": [
        {
          "output_type": "stream",
          "name": "stdout",
          "text": [
            "enter the string: sampad\n",
            "dapmas\n"
          ]
        }
      ]
    },
    {
      "cell_type": "code",
      "source": [
        "# Write a Python program that prints whether a given string s, where s is\n",
        "# given by the user, is a palindrome or not\n",
        "s=input(\"enter the string: \")\n",
        "def palindrome(n):\n",
        "  is_palindrome=True\n",
        "  start=0\n",
        "  end=len(s)-1\n",
        "  while(start<end):\n",
        "    if s[start]!=s[end]:\n",
        "      is_palindrome=False\n",
        "    start+=1\n",
        "    end-=1\n",
        "  if is_palindrome == True:\n",
        "    print(\"String is palindrome\")\n",
        "  else:\n",
        "    print(\"String is not palindrome\")\n",
        "palindrome(s)\n",
        "\n",
        "\n",
        "\n"
      ],
      "metadata": {
        "colab": {
          "base_uri": "https://localhost:8080/"
        },
        "id": "Xyu9v69bbIRJ",
        "outputId": "bcd6d5f4-2bde-4add-a409-41ec1d52a8f2"
      },
      "execution_count": 18,
      "outputs": [
        {
          "output_type": "stream",
          "name": "stdout",
          "text": [
            "enter the string: malayalam\n",
            "String is palindrome\n"
          ]
        }
      ]
    },
    {
      "cell_type": "code",
      "source": [
        "# Write a Python program that prints the number of words in a given\n",
        "# sentence s, where s is given by the user.\n",
        "a=input(\"enter the sentence: \")\n",
        "print(len(a.split()))"
      ],
      "metadata": {
        "colab": {
          "base_uri": "https://localhost:8080/"
        },
        "id": "TJaP9yB2dpqK",
        "outputId": "c26c3437-abcb-43b4-81c7-0d00554980c6"
      },
      "execution_count": 19,
      "outputs": [
        {
          "output_type": "stream",
          "name": "stdout",
          "text": [
            "enter the sentence: my name is sampad kar\n",
            "5\n"
          ]
        }
      ]
    },
    {
      "cell_type": "code",
      "source": [
        "# Write a Python program that prints the largest and smallest elements in a\n",
        "# given list l, where l is given by the user.\n",
        "a=[1,2,3,4,5,6]\n",
        "print(max(a))\n",
        "print(min(a))"
      ],
      "metadata": {
        "colab": {
          "base_uri": "https://localhost:8080/"
        },
        "id": "ARtBYe8xeB7a",
        "outputId": "9c0dd819-9322-493a-ea1c-1dda433046f9"
      },
      "execution_count": 20,
      "outputs": [
        {
          "output_type": "stream",
          "name": "stdout",
          "text": [
            "6\n",
            "1\n"
          ]
        }
      ]
    },
    {
      "cell_type": "code",
      "source": [
        "# Write a Python program that prints the number of occurrences of a given\n",
        "# element x in a given list l, where x and l are given by the user.\n",
        "n=int(input(\"enter the number the element: \"))\n",
        "l=[]\n",
        "for i in range(n):\n",
        "  l.append((input(\"enter the element\")))\n",
        "x=input(\"enter the element to find the occurence: \")\n",
        "sum=0\n",
        "for i in range(n):\n",
        "  if l[i]==x:\n",
        "    sum+=1\n",
        "print(sum)\n",
        "print(l.count(x))"
      ],
      "metadata": {
        "colab": {
          "base_uri": "https://localhost:8080/"
        },
        "id": "NadXCOm3edUx",
        "outputId": "fa1e7616-9df4-4484-e0e9-21adbcc0ab29"
      },
      "execution_count": 22,
      "outputs": [
        {
          "output_type": "stream",
          "name": "stdout",
          "text": [
            "enter the number the element: 5\n",
            "enter the element2\n",
            "enter the element3\n",
            "enter the element2\n",
            "enter the element1\n",
            "enter the element5\n",
            "enter the element to find the occurence: 2\n",
            "2\n",
            "2\n"
          ]
        }
      ]
    },
    {
      "cell_type": "code",
      "source": [
        "# Write a Python program that prints the sorted version of a given list l,\n",
        "# where l is given by the user.\n",
        "n=int(input(\"enter the number the element: \"))\n",
        "l=[]\n",
        "for i in range(n):\n",
        "  l.append((input(\"enter the element\")))\n",
        "a=l.sort()\n",
        "print(a)"
      ],
      "metadata": {
        "colab": {
          "base_uri": "https://localhost:8080/"
        },
        "id": "3Mk-Ce55fTre",
        "outputId": "81e2c8b8-c3d7-40da-c29b-5016b5838293"
      },
      "execution_count": 23,
      "outputs": [
        {
          "output_type": "stream",
          "name": "stdout",
          "text": [
            "enter the number the element: 5\n",
            "enter the element3\n",
            "enter the element22\n",
            "enter the element5\n",
            "enter the element1\n",
            "enter the element9\n",
            "None\n"
          ]
        }
      ]
    },
    {
      "cell_type": "code",
      "source": [
        "# Write a Python program that prints the common elements in two given\n",
        "# lists l1 and l2, where l1 and l2 are given by the user.\n",
        "n=int(input(\"enter the number the element in l1: \"))\n",
        "l1=[]\n",
        "for i in range(n):\n",
        "  l1.append((input(\"enter the element\")))\n",
        "m=int(input(\"enter the number the element in l2: \"))\n",
        "l2=[]\n",
        "for i in range(m):\n",
        "  l2.append((input(\"enter the element\")))\n",
        "for i in l1:\n",
        "  if i in l2:\n",
        "    print(i)"
      ],
      "metadata": {
        "colab": {
          "base_uri": "https://localhost:8080/"
        },
        "id": "n7T7psCIgirH",
        "outputId": "e64b1a6a-ae06-481e-acee-a6c1e1b38b05"
      },
      "execution_count": 2,
      "outputs": [
        {
          "output_type": "stream",
          "name": "stdout",
          "text": [
            "enter the number the element in l1: 5\n",
            "enter the element1\n",
            "enter the element2\n",
            "enter the element\n",
            "enter the element4\n",
            "enter the element5\n",
            "enter the number the element in l2: 3\n",
            "enter the element4\n",
            "enter the element5\n",
            "enter the element6\n",
            "4\n",
            "5\n"
          ]
        }
      ]
    },
    {
      "cell_type": "code",
      "source": [
        "# Write a Python program that prints the number of prime numbers in a\n",
        "# given range r, where r is given by the user\n",
        "n = int(input(\"Enter the range: \"))\n",
        "prime_count = 0\n",
        "\n",
        "for i in range(2, n + 1):\n",
        "    is_prime = True\n",
        "    for j in range(2, int(i ** 0.5) + 1):\n",
        "        if i % j == 0:\n",
        "            is_prime = False\n",
        "            break\n",
        "    if is_prime:\n",
        "        print(i,end=\" \")\n",
        "        prime_count += 1\n",
        "\n",
        "print(\"\\nNumber of prime numbers in the range:\", prime_count)\n"
      ],
      "metadata": {
        "colab": {
          "base_uri": "https://localhost:8080/"
        },
        "id": "edkFjpUtQMdX",
        "outputId": "d4d37dfa-b439-4168-b5a0-2d814e94832c"
      },
      "execution_count": 14,
      "outputs": [
        {
          "output_type": "stream",
          "name": "stdout",
          "text": [
            "Enter the range: 100\n",
            "2 3 5 7 11 13 17 19 23 29 31 37 41 43 47 53 59 61 67 71 73 79 83 89 97 \n",
            "Number of prime numbers in the range: 25\n"
          ]
        }
      ]
    },
    {
      "cell_type": "code",
      "source": [],
      "metadata": {
        "id": "Tv1FYmBGRbm6"
      },
      "execution_count": null,
      "outputs": []
    }
  ]
}
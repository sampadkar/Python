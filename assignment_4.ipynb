{
  "nbformat": 4,
  "nbformat_minor": 0,
  "metadata": {
    "colab": {
      "provenance": []
    },
    "kernelspec": {
      "name": "python3",
      "display_name": "Python 3"
    },
    "language_info": {
      "name": "python"
    }
  },
  "cells": [
    {
      "cell_type": "code",
      "execution_count": 2,
      "metadata": {
        "id": "Vck4aH7WfRBY"
      },
      "outputs": [],
      "source": [
        "# Declare an integer variable `age` with the value 25.\n",
        "age=int(25)"
      ]
    },
    {
      "cell_type": "code",
      "source": [
        "# Create a string variable `name` with your name as its value.\n",
        "name='Sampad'"
      ],
      "metadata": {
        "id": "_ycSYmV4fqd7"
      },
      "execution_count": 3,
      "outputs": []
    },
    {
      "cell_type": "code",
      "source": [
        "# Declare a list variable `fruits` containing three fruit names of\n",
        "# your choice.\n",
        "fruits=['Apple','Banana','Mango']"
      ],
      "metadata": {
        "id": "ozCbBSXygBKG"
      },
      "execution_count": 4,
      "outputs": []
    },
    {
      "cell_type": "code",
      "source": [
        "# Write code to swap the values of two variables, `a` and `b`,\n",
        "# without using a temporary variable\n",
        "a=int(input(\"enter the first number: \"))\n",
        "b=int(input(\"enter the second number: \"))\n",
        "a,b=b,a\n",
        "print(a)\n",
        "print(b)"
      ],
      "metadata": {
        "colab": {
          "base_uri": "https://localhost:8080/"
        },
        "id": "6eiE24BJgI40",
        "outputId": "a5cee45b-9ded-4f4c-dc0a-282672963d52"
      },
      "execution_count": 6,
      "outputs": [
        {
          "output_type": "stream",
          "name": "stdout",
          "text": [
            "enter the first number: 1\n",
            "enter the second number: 2\n",
            "2\n",
            "1\n"
          ]
        }
      ]
    },
    {
      "cell_type": "code",
      "source": [
        "# Create a float variable `price` with the value 19.99\n",
        "price=float(19.99)"
      ],
      "metadata": {
        "id": "fmXk-aAcgdAz"
      },
      "execution_count": 7,
      "outputs": []
    },
    {
      "cell_type": "code",
      "source": [
        "# Define a boolean variable `is_student` and set it to `True`.\n",
        "is_student=True"
      ],
      "metadata": {
        "id": "puKczivdgloA"
      },
      "execution_count": 8,
      "outputs": []
    },
    {
      "cell_type": "code",
      "source": [
        "# Create a tuple variable `coordinates` that stores the latitude\n",
        "# and longitude of a location (e.g., (40.7128, -74.0060)).\n",
        "coordinates=(40.7128,-74.0060)"
      ],
      "metadata": {
        "id": "yKR5ckORgsS2"
      },
      "execution_count": 9,
      "outputs": []
    },
    {
      "cell_type": "code",
      "source": [
        "# Declare a dictionary variable `student` with keys \"name\" and\n",
        "# \"age\" and set their values accordingly.\n",
        "student={\n",
        "    'name':['sampad','santu','panda','pradip'],\n",
        "    'age': [21,22,23,24]\n",
        "}\n"
      ],
      "metadata": {
        "id": "IF3xJaDag2h2"
      },
      "execution_count": 12,
      "outputs": []
    },
    {
      "cell_type": "code",
      "source": [
        "# Write a Python program that calculates the area of a circle with\n",
        "# a given radius. Use a variable `radius` to store the radius value.\n",
        "radius=int(input(\"enter the radius: \"))\n",
        "pi=22/7\n",
        "print(f\"the area of circle is {pi*radius*radius}\")"
      ],
      "metadata": {
        "colab": {
          "base_uri": "https://localhost:8080/"
        },
        "id": "KkK5ZF0mhSg-",
        "outputId": "d4ae46a0-16ff-40ea-ea3f-71f24e78f783"
      },
      "execution_count": 13,
      "outputs": [
        {
          "output_type": "stream",
          "name": "stdout",
          "text": [
            "enter the radius: 7\n",
            "the area of circle is 154.0\n"
          ]
        }
      ]
    },
    {
      "cell_type": "code",
      "source": [
        "# Create a list variable `numbers` containing integers from 1 to\n",
        "# 10 using list comprehension.\n",
        "numbers=[i for i in range(1,11)]\n",
        "print(numbers)"
      ],
      "metadata": {
        "colab": {
          "base_uri": "https://localhost:8080/"
        },
        "id": "hZh-5lHZiLre",
        "outputId": "e5bcf9d8-875f-42ce-a9d7-91ce770374e2"
      },
      "execution_count": 16,
      "outputs": [
        {
          "output_type": "stream",
          "name": "stdout",
          "text": [
            "[1, 2, 3, 4, 5, 6, 7, 8, 9, 10]\n"
          ]
        }
      ]
    },
    {
      "cell_type": "code",
      "source": [
        "# Define a variable `is_valid` and set it to `False`. Then write\n",
        "# code to toggle its value to `True`.\n",
        "is_valid=False\n",
        "is_valid= not is_valid\n",
        "print(is_valid)"
      ],
      "metadata": {
        "colab": {
          "base_uri": "https://localhost:8080/"
        },
        "id": "Z1Tvduzri0Vy",
        "outputId": "f49f0079-c2eb-4f01-c49e-f59027728158"
      },
      "execution_count": 18,
      "outputs": [
        {
          "output_type": "stream",
          "name": "stdout",
          "text": [
            "True\n"
          ]
        }
      ]
    },
    {
      "cell_type": "code",
      "source": [
        "# Declare a string variable `sentence` with a sentence of your\n",
        "# choice.\n",
        "sentence='hello world'"
      ],
      "metadata": {
        "id": "vO_8a08jjNLN"
      },
      "execution_count": 19,
      "outputs": []
    },
    {
      "cell_type": "code",
      "source": [
        "# Write a program that calculates the sum of all numbers from 1\n",
        "# to 100 using a variable `total_sum`.\n",
        "total_sum=0\n",
        "for i in range(101):\n",
        "  total_sum+=i\n",
        "print(total_sum)"
      ],
      "metadata": {
        "colab": {
          "base_uri": "https://localhost:8080/"
        },
        "id": "oXIVDdNGjYFH",
        "outputId": "4e3419f0-9c90-432d-9533-2a94449ec917"
      },
      "execution_count": 21,
      "outputs": [
        {
          "output_type": "stream",
          "name": "stdout",
          "text": [
            "5050\n"
          ]
        }
      ]
    },
    {
      "cell_type": "code",
      "source": [
        "# Create a list variable `grades` containing five test scores as\n",
        "# floating-point numbers.\n",
        "grades=[8.2,7.4,9.7,8.4,6.1]"
      ],
      "metadata": {
        "id": "etzS66dgjlN1"
      },
      "execution_count": 22,
      "outputs": []
    },
    {
      "cell_type": "code",
      "source": [
        "# Define a variable `greeting` and assign it the value \"Hello,\n",
        "# World!\".\n",
        "greeting='Hello World'"
      ],
      "metadata": {
        "id": "UODEgWbaj4qP"
      },
      "execution_count": 23,
      "outputs": []
    },
    {
      "cell_type": "code",
      "source": [
        "# Declare a tuple variable `months` containing the names of the\n",
        "# twelve months of the year\n",
        "months=('January','February','March','April','May','June','July','August','September','October','November','December')"
      ],
      "metadata": {
        "id": "K6lgUX5FkBrZ"
      },
      "execution_count": 24,
      "outputs": []
    },
    {
      "cell_type": "code",
      "source": [
        "# Write code that increments an integer variable `counter` by 1\n",
        "# and then prints its value.\n",
        "counter=0\n",
        "counter+=1\n",
        "print(counter)"
      ],
      "metadata": {
        "colab": {
          "base_uri": "https://localhost:8080/"
        },
        "id": "rLNqj4fwkHtJ",
        "outputId": "935a1e6a-164e-4bae-c654-48555333ca92"
      },
      "execution_count": 25,
      "outputs": [
        {
          "output_type": "stream",
          "name": "stdout",
          "text": [
            "1\n"
          ]
        }
      ]
    },
    {
      "cell_type": "code",
      "source": [
        "# Create a dictionary variable `book` with keys \"title\", \"author\",\n",
        "# and \"year\" to store information about a book.\n",
        "book={\n",
        "    'title':['x','y','z'],\n",
        "    'author':['a','b','c'],\n",
        "    'year':[2001,2012,2008,2009]\n",
        "}\n",
        "print(book)"
      ],
      "metadata": {
        "colab": {
          "base_uri": "https://localhost:8080/"
        },
        "id": "1Jz_ADWukXi2",
        "outputId": "f801686a-8ae8-4df6-8c2b-a12446eee60c"
      },
      "execution_count": 32,
      "outputs": [
        {
          "output_type": "stream",
          "name": "stdout",
          "text": [
            "{'title': ['x', 'y', 'z'], 'author': ['a', 'b', 'c'], 'year': [2001, 2012, 2008, 2009]}\n"
          ]
        }
      ]
    },
    {
      "cell_type": "code",
      "source": [
        "# Define a variable `pi` and assign it the value of the\n",
        "# mathematical constant π (pi).\n",
        "pi=22/7"
      ],
      "metadata": {
        "id": "NkVMG1Ehk0dt"
      },
      "execution_count": 33,
      "outputs": []
    },
    {
      "cell_type": "code",
      "source": [
        "# Declare a list variable `colors` containing the names of five\n",
        "# different colors.\n",
        "colours=['red','black','green','blue','yellow']"
      ],
      "metadata": {
        "id": "sa4afXJPldrs"
      },
      "execution_count": 34,
      "outputs": []
    },
    {
      "cell_type": "code",
      "source": [
        "# Write a program that calculates the area of a rectangle using\n",
        "# variables `length` and `width`.\n",
        "length=int(input(\"enter the length: \"))\n",
        "width=int(input(\"enter the width: \"))\n",
        "print(f\"the area of rectangle is {length*width}\")"
      ],
      "metadata": {
        "colab": {
          "base_uri": "https://localhost:8080/"
        },
        "id": "BN4MjWWzlpz8",
        "outputId": "c23fdba1-a9a3-45f7-d6bb-eb826ed94046"
      },
      "execution_count": 35,
      "outputs": [
        {
          "output_type": "stream",
          "name": "stdout",
          "text": [
            "enter the length: 12\n",
            "enter the width: 11\n",
            "the area of rectangle is 132\n"
          ]
        }
      ]
    },
    {
      "cell_type": "code",
      "source": [
        "# Create a dictionary variable `person` with keys \"first_name\"\n",
        "# and \"last_name\" to store a person's name.\n",
        "person={\n",
        "    'first_name':['sam','tom','oggy','jerry'],\n",
        "    'last_name':['x','y','z']\n",
        "}"
      ],
      "metadata": {
        "id": "C06Ag2mNl9UT"
      },
      "execution_count": 37,
      "outputs": []
    },
    {
      "cell_type": "code",
      "source": [
        "# Define a variable `temperature` and assign it a value in\n",
        "# Celsius. Convert it to Fahrenheit and store the result in another\n",
        "# variable.\n",
        "temp_cel=int(input(\"enter the temperature in celsius: \"))\n",
        "temp_far=(temp_cel*9/5)+32\n",
        "print(f\"the temperature in fahrenheit is {temp_far}\")"
      ],
      "metadata": {
        "colab": {
          "base_uri": "https://localhost:8080/"
        },
        "id": "ShcrqGTkmYu3",
        "outputId": "0eee8872-525c-45e6-8166-ae007667d0bb"
      },
      "execution_count": 39,
      "outputs": [
        {
          "output_type": "stream",
          "name": "stdout",
          "text": [
            "enter the temperature in celsius: 100\n",
            "the temperature in fahrenheit is 212.0\n"
          ]
        }
      ]
    },
    {
      "cell_type": "code",
      "source": [
        "# Write code that appends a new item to a list named\n",
        "# 'shopping_list'.\n",
        "shopping_list=['rice','potato','lentels','egg']\n",
        "shopping_list.append('milk')\n",
        "print(shopping_list)"
      ],
      "metadata": {
        "colab": {
          "base_uri": "https://localhost:8080/"
        },
        "id": "3ZDCHBIpmutW",
        "outputId": "6eaf152e-bd99-46ce-e0f8-d347e56237d6"
      },
      "execution_count": 40,
      "outputs": [
        {
          "output_type": "stream",
          "name": "stdout",
          "text": [
            "['rice', 'potato', 'lentels', 'egg', 'milk']\n"
          ]
        }
      ]
    },
    {
      "cell_type": "code",
      "source": [
        "# Declare a variable `is_raining` and set it to `True`. Then write\n",
        "# code to change its value to `False`.\n",
        "is_raining=True\n",
        "is_raining= not is_raining\n",
        "print(is_raining)"
      ],
      "metadata": {
        "colab": {
          "base_uri": "https://localhost:8080/"
        },
        "id": "d_-4DeVtnAz4",
        "outputId": "8feac1a4-c65e-47a0-81fa-bce585c192a7"
      },
      "execution_count": 42,
      "outputs": [
        {
          "output_type": "stream",
          "name": "stdout",
          "text": [
            "False\n"
          ]
        }
      ]
    },
    {
      "cell_type": "code",
      "source": [
        "# Write a Python program that takes an integer as input and\n",
        "# converts it to a float.\n",
        "a=int(input(\"enter the integer:\"))\n",
        "print(float(a))"
      ],
      "metadata": {
        "colab": {
          "base_uri": "https://localhost:8080/"
        },
        "id": "_O-Bk4AsnSJu",
        "outputId": "13624269-5251-459e-ab29-05fc772e9e20"
      },
      "execution_count": 43,
      "outputs": [
        {
          "output_type": "stream",
          "name": "stdout",
          "text": [
            "enter the integer:12\n",
            "12.0\n"
          ]
        }
      ]
    },
    {
      "cell_type": "code",
      "source": [
        "# Create a program that prompts the user for their age as a\n",
        "# string, converts it to an integer, and then checks if they are\n",
        "# eligible to vote (18 or older).\n",
        "age=str(input(\"enter the age:\"))\n",
        "if int(age)>=18:\n",
        "  print(\"eligible to vote\")\n",
        "else:\n",
        "  print(\"not eligible to vote\")"
      ],
      "metadata": {
        "colab": {
          "base_uri": "https://localhost:8080/"
        },
        "id": "16YyokagpZ3e",
        "outputId": "3cf574c8-ba36-4933-b690-8366b8107ad0"
      },
      "execution_count": 46,
      "outputs": [
        {
          "output_type": "stream",
          "name": "stdout",
          "text": [
            "enter the age:12\n",
            "not eligible to vote\n"
          ]
        }
      ]
    },
    {
      "cell_type": "code",
      "source": [
        "# Write code to convert a float to an integer and round it to the\n",
        "# nearest whole number.\n",
        "a=float(input(\"enter the float:\"))\n",
        "print(round(a))"
      ],
      "metadata": {
        "colab": {
          "base_uri": "https://localhost:8080/"
        },
        "id": "UKTiYfFvpvMs",
        "outputId": "6ce0542e-100a-4d8b-f6ab-fa61e7399f12"
      },
      "execution_count": 47,
      "outputs": [
        {
          "output_type": "stream",
          "name": "stdout",
          "text": [
            "enter the float:12.697777\n",
            "13\n"
          ]
        }
      ]
    },
    {
      "cell_type": "code",
      "source": [
        "# Create a program that takes a user-provided string, converts it\n",
        "# to lowercase, and checks if it contains the word \"python.\"\n",
        "string=str(input(\"enter the string: \"))\n",
        "if 'python' in string.lower():\n",
        "  print(\"yes\")\n",
        "else:\n",
        "  print(\"no\")"
      ],
      "metadata": {
        "colab": {
          "base_uri": "https://localhost:8080/"
        },
        "id": "9eCH8lihqBva",
        "outputId": "dbfe81f3-2ece-43e1-ca1f-4f7d535d33c1"
      },
      "execution_count": 48,
      "outputs": [
        {
          "output_type": "stream",
          "name": "stdout",
          "text": [
            "enter the string: python is a\n",
            "yes\n"
          ]
        }
      ]
    },
    {
      "cell_type": "code",
      "source": [
        "# Write a program that takes a user-provided string containing a\n",
        "# number (e.g., \"42\") and converts it to an integer\n"
      ],
      "metadata": {
        "id": "-3fMZjM6qcWh"
      },
      "execution_count": 49,
      "outputs": []
    },
    {
      "cell_type": "code",
      "source": [
        "# Create a Python script that converts a list of integers into a list\n",
        "# of strings.\n",
        "a=[1,2,3,4,5]\n",
        "print(a)\n",
        "a=str(a)\n",
        "print(a)"
      ],
      "metadata": {
        "colab": {
          "base_uri": "https://localhost:8080/"
        },
        "id": "XJ5a3DnYreMC",
        "outputId": "86ac065a-2f42-440d-db06-d9d668c0499c"
      },
      "execution_count": 52,
      "outputs": [
        {
          "output_type": "stream",
          "name": "stdout",
          "text": [
            "[1, 2, 3, 4, 5]\n",
            "[1, 2, 3, 4, 5]\n"
          ]
        }
      ]
    },
    {
      "cell_type": "code",
      "source": [
        "# Write a program that calculates the area of a triangle using\n",
        "# user-provided string inputs for the base and height. Convert these\n",
        "# strings to floats for the calculation.\n",
        "base=input(\"enter the base: \")\n",
        "height=input(\"enter the height:\")\n",
        "print(f\"the area of triangle is {0.5*float(base)*float(height)}\")"
      ],
      "metadata": {
        "colab": {
          "base_uri": "https://localhost:8080/"
        },
        "id": "m2-3etimr8ru",
        "outputId": "02b239c3-18e3-4638-c4d3-df406448be92"
      },
      "execution_count": 55,
      "outputs": [
        {
          "output_type": "stream",
          "name": "stdout",
          "text": [
            "enter the base: 12\n",
            "enter the height:11\n",
            "the area of triangle is 66.0\n"
          ]
        }
      ]
    },
    {
      "cell_type": "code",
      "source": [
        "# Create a program that takes a user-provided number in string\n",
        "# format and converts it to a binary number in integer form.\n"
      ],
      "metadata": {
        "id": "EsDH-cQ1sUiM"
      },
      "execution_count": 57,
      "outputs": []
    },
    {
      "cell_type": "code",
      "source": [
        "#  Write code that converts a list of strings representing numbers\n",
        "# (e.g., [\"3\", \"5\", \"7\"]) into a list of integers.\n",
        "a = [\"3\", \"5\", \"7\"]\n",
        "converted_list = [int(i) for i in a]\n",
        "print(\"Original list:\", a)\n",
        "print(\"Converted list:\", converted_list)\n"
      ],
      "metadata": {
        "colab": {
          "base_uri": "https://localhost:8080/"
        },
        "id": "GNLdNG4isqqb",
        "outputId": "06cd8013-1fa2-4a00-9170-748957493b58"
      },
      "execution_count": 61,
      "outputs": [
        {
          "output_type": "stream",
          "name": "stdout",
          "text": [
            "Original list: ['3', '5', '7']\n",
            "Converted list: [3, 5, 7]\n"
          ]
        }
      ]
    },
    {
      "cell_type": "code",
      "source": [
        "# Create a program that takes a user-provided string containing\n",
        "# a decimal number (e.g., \"3.14\") and converts it to a float.\n",
        "a=input(\"enter the decimal number: \")\n",
        "print(float(a))"
      ],
      "metadata": {
        "colab": {
          "base_uri": "https://localhost:8080/"
        },
        "id": "bBQqlAWitTv4",
        "outputId": "a01e1629-4344-474f-c841-94f973bbc8ee"
      },
      "execution_count": 62,
      "outputs": [
        {
          "output_type": "stream",
          "name": "stdout",
          "text": [
            "enter the decimal number: 10.23\n",
            "10.23\n"
          ]
        }
      ]
    },
    {
      "cell_type": "code",
      "source": [],
      "metadata": {
        "id": "k_VwEiuKuewm"
      },
      "execution_count": null,
      "outputs": []
    }
  ]
}